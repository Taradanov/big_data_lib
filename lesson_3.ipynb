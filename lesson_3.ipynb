{
 "cells": [
  {
   "cell_type": "code",
   "execution_count": 111,
   "metadata": {
    "collapsed": true
   },
   "outputs": [],
   "source": [
    "import pandas as pd\n",
    "import numpy as np"
   ]
  },
  {
   "cell_type": "code",
   "execution_count": 112,
   "outputs": [],
   "source": [
    "DATASET_PATH = 'housing.csv'\n",
    "PREPARED_DATASET_PATH = 'housing_prepared.csv'"
   ],
   "metadata": {
    "collapsed": false,
    "pycharm": {
     "name": "#%%\n"
    }
   }
  },
  {
   "cell_type": "code",
   "execution_count": 113,
   "outputs": [
    {
     "data": {
      "text/plain": "    longitude  latitude  housing_median_age  total_rooms  total_bedrooms  \\\nid                                                                         \n0     -122.23     37.88                41.0        880.0           129.0   \n1     -122.22     37.86                21.0       7099.0          1106.0   \n2     -122.24     37.85                52.0       1467.0           190.0   \n3     -122.25     37.85                52.0       1274.0           235.0   \n4     -122.25     37.85                52.0       1627.0           280.0   \n\n    population  households  median_income  median_house_value ocean_proximity  \nid                                                                             \n0        322.0       126.0         8.3252            452600.0        NEAR BAY  \n1       2401.0      1138.0         8.3014            358500.0        NEAR BAY  \n2        496.0       177.0         7.2574            352100.0        NEAR BAY  \n3        558.0       219.0         5.6431            341300.0        NEAR BAY  \n4        565.0       259.0         3.8462            342200.0        NEAR BAY  ",
      "text/html": "<div>\n<style scoped>\n    .dataframe tbody tr th:only-of-type {\n        vertical-align: middle;\n    }\n\n    .dataframe tbody tr th {\n        vertical-align: top;\n    }\n\n    .dataframe thead th {\n        text-align: right;\n    }\n</style>\n<table border=\"1\" class=\"dataframe\">\n  <thead>\n    <tr style=\"text-align: right;\">\n      <th></th>\n      <th>longitude</th>\n      <th>latitude</th>\n      <th>housing_median_age</th>\n      <th>total_rooms</th>\n      <th>total_bedrooms</th>\n      <th>population</th>\n      <th>households</th>\n      <th>median_income</th>\n      <th>median_house_value</th>\n      <th>ocean_proximity</th>\n    </tr>\n    <tr>\n      <th>id</th>\n      <th></th>\n      <th></th>\n      <th></th>\n      <th></th>\n      <th></th>\n      <th></th>\n      <th></th>\n      <th></th>\n      <th></th>\n      <th></th>\n    </tr>\n  </thead>\n  <tbody>\n    <tr>\n      <th>0</th>\n      <td>-122.23</td>\n      <td>37.88</td>\n      <td>41.0</td>\n      <td>880.0</td>\n      <td>129.0</td>\n      <td>322.0</td>\n      <td>126.0</td>\n      <td>8.3252</td>\n      <td>452600.0</td>\n      <td>NEAR BAY</td>\n    </tr>\n    <tr>\n      <th>1</th>\n      <td>-122.22</td>\n      <td>37.86</td>\n      <td>21.0</td>\n      <td>7099.0</td>\n      <td>1106.0</td>\n      <td>2401.0</td>\n      <td>1138.0</td>\n      <td>8.3014</td>\n      <td>358500.0</td>\n      <td>NEAR BAY</td>\n    </tr>\n    <tr>\n      <th>2</th>\n      <td>-122.24</td>\n      <td>37.85</td>\n      <td>52.0</td>\n      <td>1467.0</td>\n      <td>190.0</td>\n      <td>496.0</td>\n      <td>177.0</td>\n      <td>7.2574</td>\n      <td>352100.0</td>\n      <td>NEAR BAY</td>\n    </tr>\n    <tr>\n      <th>3</th>\n      <td>-122.25</td>\n      <td>37.85</td>\n      <td>52.0</td>\n      <td>1274.0</td>\n      <td>235.0</td>\n      <td>558.0</td>\n      <td>219.0</td>\n      <td>5.6431</td>\n      <td>341300.0</td>\n      <td>NEAR BAY</td>\n    </tr>\n    <tr>\n      <th>4</th>\n      <td>-122.25</td>\n      <td>37.85</td>\n      <td>52.0</td>\n      <td>1627.0</td>\n      <td>280.0</td>\n      <td>565.0</td>\n      <td>259.0</td>\n      <td>3.8462</td>\n      <td>342200.0</td>\n      <td>NEAR BAY</td>\n    </tr>\n  </tbody>\n</table>\n</div>"
     },
     "execution_count": 113,
     "metadata": {},
     "output_type": "execute_result"
    }
   ],
   "source": [
    "df = pd.read_csv(DATASET_PATH, index_col='id')\n",
    "df.head()"
   ],
   "metadata": {
    "collapsed": false,
    "pycharm": {
     "name": "#%%\n"
    }
   }
  },
  {
   "cell_type": "code",
   "execution_count": 114,
   "outputs": [
    {
     "data": {
      "text/plain": "(20640, 10)"
     },
     "execution_count": 114,
     "metadata": {},
     "output_type": "execute_result"
    }
   ],
   "source": [
    "df.shape"
   ],
   "metadata": {
    "collapsed": false,
    "pycharm": {
     "name": "#%%\n"
    }
   }
  },
  {
   "cell_type": "code",
   "execution_count": 115,
   "outputs": [
    {
     "data": {
      "text/plain": "Index(['longitude', 'latitude', 'housing_median_age', 'total_rooms',\n       'total_bedrooms', 'population', 'households', 'median_income',\n       'median_house_value', 'ocean_proximity'],\n      dtype='object')"
     },
     "execution_count": 115,
     "metadata": {},
     "output_type": "execute_result"
    }
   ],
   "source": [
    "df.columns"
   ],
   "metadata": {
    "collapsed": false,
    "pycharm": {
     "name": "#%%\n"
    }
   }
  },
  {
   "cell_type": "code",
   "execution_count": 116,
   "outputs": [
    {
     "name": "stdout",
     "output_type": "stream",
     "text": [
      "<class 'pandas.core.frame.DataFrame'>\n",
      "Int64Index: 20640 entries, 0 to 20639\n",
      "Data columns (total 10 columns):\n",
      " #   Column              Non-Null Count  Dtype  \n",
      "---  ------              --------------  -----  \n",
      " 0   longitude           20640 non-null  float64\n",
      " 1   latitude            20640 non-null  float64\n",
      " 2   housing_median_age  19918 non-null  float64\n",
      " 3   total_rooms         20640 non-null  float64\n",
      " 4   total_bedrooms      20433 non-null  float64\n",
      " 5   population          20041 non-null  float64\n",
      " 6   households          20640 non-null  float64\n",
      " 7   median_income       20640 non-null  float64\n",
      " 8   median_house_value  20640 non-null  float64\n",
      " 9   ocean_proximity     20640 non-null  object \n",
      "dtypes: float64(9), object(1)\n",
      "memory usage: 1.7+ MB\n"
     ]
    }
   ],
   "source": [
    "df.info()"
   ],
   "metadata": {
    "collapsed": false,
    "pycharm": {
     "name": "#%%\n"
    }
   }
  },
  {
   "cell_type": "code",
   "execution_count": 117,
   "outputs": [
    {
     "data": {
      "text/plain": "longitude             float64\nlatitude              float64\nhousing_median_age    float64\ntotal_rooms           float64\ntotal_bedrooms        float64\npopulation            float64\nhouseholds            float64\nmedian_income         float64\nmedian_house_value    float64\nocean_proximity        object\ndtype: object"
     },
     "execution_count": 117,
     "metadata": {},
     "output_type": "execute_result"
    }
   ],
   "source": [
    "df.dtypes"
   ],
   "metadata": {
    "collapsed": false,
    "pycharm": {
     "name": "#%%\n"
    }
   }
  },
  {
   "cell_type": "code",
   "execution_count": 118,
   "outputs": [
    {
     "data": {
      "text/plain": "          longitude      latitude  housing_median_age   total_rooms  \\\ncount  20640.000000  20640.000000        19918.000000  20640.000000   \nmean    -119.471242     35.036934           28.653630   2635.763081   \nstd        5.041408     94.903955           12.576796   2181.615252   \nmin     -124.350000 -13534.030000            1.000000      2.000000   \n25%     -121.800000     33.930000           18.000000   1447.750000   \n50%     -118.490000     34.260000           29.000000   2127.000000   \n75%     -118.010000     37.710000           37.000000   3148.000000   \nmax      122.030000   1327.130000           52.000000  39320.000000   \n\n       total_bedrooms    population    households  median_income  \\\ncount    20433.000000  20041.000000  20640.000000   20640.000000   \nmean       537.870553   1425.418243    499.539680       3.870671   \nstd        421.385070   1135.185798    382.329753       1.899822   \nmin          1.000000      3.000000      1.000000       0.499900   \n25%        296.000000    786.000000    280.000000       2.563400   \n50%        435.000000   1165.000000    409.000000       3.534800   \n75%        647.000000   1726.000000    605.000000       4.743250   \nmax       6445.000000  35682.000000   6082.000000      15.000100   \n\n       median_house_value  \ncount        20640.000000  \nmean        206855.816909  \nstd         115395.615874  \nmin          14999.000000  \n25%         119600.000000  \n50%         179700.000000  \n75%         264725.000000  \nmax         500001.000000  ",
      "text/html": "<div>\n<style scoped>\n    .dataframe tbody tr th:only-of-type {\n        vertical-align: middle;\n    }\n\n    .dataframe tbody tr th {\n        vertical-align: top;\n    }\n\n    .dataframe thead th {\n        text-align: right;\n    }\n</style>\n<table border=\"1\" class=\"dataframe\">\n  <thead>\n    <tr style=\"text-align: right;\">\n      <th></th>\n      <th>longitude</th>\n      <th>latitude</th>\n      <th>housing_median_age</th>\n      <th>total_rooms</th>\n      <th>total_bedrooms</th>\n      <th>population</th>\n      <th>households</th>\n      <th>median_income</th>\n      <th>median_house_value</th>\n    </tr>\n  </thead>\n  <tbody>\n    <tr>\n      <th>count</th>\n      <td>20640.000000</td>\n      <td>20640.000000</td>\n      <td>19918.000000</td>\n      <td>20640.000000</td>\n      <td>20433.000000</td>\n      <td>20041.000000</td>\n      <td>20640.000000</td>\n      <td>20640.000000</td>\n      <td>20640.000000</td>\n    </tr>\n    <tr>\n      <th>mean</th>\n      <td>-119.471242</td>\n      <td>35.036934</td>\n      <td>28.653630</td>\n      <td>2635.763081</td>\n      <td>537.870553</td>\n      <td>1425.418243</td>\n      <td>499.539680</td>\n      <td>3.870671</td>\n      <td>206855.816909</td>\n    </tr>\n    <tr>\n      <th>std</th>\n      <td>5.041408</td>\n      <td>94.903955</td>\n      <td>12.576796</td>\n      <td>2181.615252</td>\n      <td>421.385070</td>\n      <td>1135.185798</td>\n      <td>382.329753</td>\n      <td>1.899822</td>\n      <td>115395.615874</td>\n    </tr>\n    <tr>\n      <th>min</th>\n      <td>-124.350000</td>\n      <td>-13534.030000</td>\n      <td>1.000000</td>\n      <td>2.000000</td>\n      <td>1.000000</td>\n      <td>3.000000</td>\n      <td>1.000000</td>\n      <td>0.499900</td>\n      <td>14999.000000</td>\n    </tr>\n    <tr>\n      <th>25%</th>\n      <td>-121.800000</td>\n      <td>33.930000</td>\n      <td>18.000000</td>\n      <td>1447.750000</td>\n      <td>296.000000</td>\n      <td>786.000000</td>\n      <td>280.000000</td>\n      <td>2.563400</td>\n      <td>119600.000000</td>\n    </tr>\n    <tr>\n      <th>50%</th>\n      <td>-118.490000</td>\n      <td>34.260000</td>\n      <td>29.000000</td>\n      <td>2127.000000</td>\n      <td>435.000000</td>\n      <td>1165.000000</td>\n      <td>409.000000</td>\n      <td>3.534800</td>\n      <td>179700.000000</td>\n    </tr>\n    <tr>\n      <th>75%</th>\n      <td>-118.010000</td>\n      <td>37.710000</td>\n      <td>37.000000</td>\n      <td>3148.000000</td>\n      <td>647.000000</td>\n      <td>1726.000000</td>\n      <td>605.000000</td>\n      <td>4.743250</td>\n      <td>264725.000000</td>\n    </tr>\n    <tr>\n      <th>max</th>\n      <td>122.030000</td>\n      <td>1327.130000</td>\n      <td>52.000000</td>\n      <td>39320.000000</td>\n      <td>6445.000000</td>\n      <td>35682.000000</td>\n      <td>6082.000000</td>\n      <td>15.000100</td>\n      <td>500001.000000</td>\n    </tr>\n  </tbody>\n</table>\n</div>"
     },
     "execution_count": 118,
     "metadata": {},
     "output_type": "execute_result"
    }
   ],
   "source": [
    "df.describe()"
   ],
   "metadata": {
    "collapsed": false,
    "pycharm": {
     "name": "#%%\n"
    }
   }
  },
  {
   "cell_type": "code",
   "execution_count": 119,
   "outputs": [
    {
     "data": {
      "text/plain": "       ocean_proximity\ncount            20640\nunique               6\ntop          <1H OCEAN\nfreq              9127",
      "text/html": "<div>\n<style scoped>\n    .dataframe tbody tr th:only-of-type {\n        vertical-align: middle;\n    }\n\n    .dataframe tbody tr th {\n        vertical-align: top;\n    }\n\n    .dataframe thead th {\n        text-align: right;\n    }\n</style>\n<table border=\"1\" class=\"dataframe\">\n  <thead>\n    <tr style=\"text-align: right;\">\n      <th></th>\n      <th>ocean_proximity</th>\n    </tr>\n  </thead>\n  <tbody>\n    <tr>\n      <th>count</th>\n      <td>20640</td>\n    </tr>\n    <tr>\n      <th>unique</th>\n      <td>6</td>\n    </tr>\n    <tr>\n      <th>top</th>\n      <td>&lt;1H OCEAN</td>\n    </tr>\n    <tr>\n      <th>freq</th>\n      <td>9127</td>\n    </tr>\n  </tbody>\n</table>\n</div>"
     },
     "execution_count": 119,
     "metadata": {},
     "output_type": "execute_result"
    }
   ],
   "source": [
    "df.describe(include='object')"
   ],
   "metadata": {
    "collapsed": false,
    "pycharm": {
     "name": "#%%\n"
    }
   }
  },
  {
   "cell_type": "code",
   "execution_count": 120,
   "outputs": [
    {
     "data": {
      "text/plain": "<1H OCEAN     9127\nINLAND        6542\nNEAR OCEAN    2655\nNEAR BAY      2288\n-               23\nISLAND           5\nName: ocean_proximity, dtype: int64"
     },
     "execution_count": 120,
     "metadata": {},
     "output_type": "execute_result"
    }
   ],
   "source": [
    "df['ocean_proximity'].value_counts()"
   ],
   "metadata": {
    "collapsed": false,
    "pycharm": {
     "name": "#%%\n"
    }
   }
  },
  {
   "cell_type": "code",
   "execution_count": 121,
   "outputs": [
    {
     "data": {
      "text/plain": "array(['NEAR BAY', '<1H OCEAN', 'INLAND', '-', 'NEAR OCEAN', 'ISLAND'],\n      dtype=object)"
     },
     "execution_count": 121,
     "metadata": {},
     "output_type": "execute_result"
    }
   ],
   "source": [
    "df['ocean_proximity'].unique()"
   ],
   "metadata": {
    "collapsed": false,
    "pycharm": {
     "name": "#%%\n"
    }
   }
  },
  {
   "cell_type": "code",
   "execution_count": 122,
   "outputs": [
    {
     "data": {
      "text/plain": "longitude               0\nlatitude                0\nhousing_median_age    722\ntotal_rooms             0\ntotal_bedrooms        207\npopulation            599\nhouseholds              0\nmedian_income           0\nmedian_house_value      0\nocean_proximity         0\ndtype: int64"
     },
     "execution_count": 122,
     "metadata": {},
     "output_type": "execute_result"
    }
   ],
   "source": [
    "len(df) - df.count()"
   ],
   "metadata": {
    "collapsed": false,
    "pycharm": {
     "name": "#%%\n"
    }
   }
  },
  {
   "cell_type": "code",
   "execution_count": 123,
   "outputs": [
    {
     "data": {
      "text/plain": "longitude               0\nlatitude                0\nhousing_median_age    722\ntotal_rooms             0\ntotal_bedrooms        207\npopulation            599\nhouseholds              0\nmedian_income           0\nmedian_house_value      0\nocean_proximity         0\ndtype: int64"
     },
     "execution_count": 123,
     "metadata": {},
     "output_type": "execute_result"
    }
   ],
   "source": [
    "df.isnull().sum()"
   ],
   "metadata": {
    "collapsed": false,
    "pycharm": {
     "name": "#%%\n"
    }
   }
  },
  {
   "cell_type": "code",
   "execution_count": 124,
   "outputs": [
    {
     "data": {
      "text/plain": "longitude             0.000\nlatitude              0.000\nhousing_median_age    3.498\ntotal_rooms           0.000\ntotal_bedrooms        1.003\npopulation            2.902\nhouseholds            0.000\nmedian_income         0.000\nmedian_house_value    0.000\nocean_proximity       0.000\ndtype: float64"
     },
     "execution_count": 124,
     "metadata": {},
     "output_type": "execute_result"
    }
   ],
   "source": [
    "round(df.isna().mean()*100,3)"
   ],
   "metadata": {
    "collapsed": false,
    "pycharm": {
     "name": "#%%\n"
    }
   }
  },
  {
   "cell_type": "code",
   "execution_count": 125,
   "outputs": [
    {
     "data": {
      "text/plain": "(28.653629882518324, 29.0)"
     },
     "execution_count": 125,
     "metadata": {},
     "output_type": "execute_result"
    }
   ],
   "source": [
    "df['housing_median_age'].mean(), df['housing_median_age'].median()"
   ],
   "metadata": {
    "collapsed": false,
    "pycharm": {
     "name": "#%%\n"
    }
   }
  },
  {
   "cell_type": "code",
   "execution_count": 126,
   "outputs": [
    {
     "data": {
      "text/plain": "ocean_proximity\n-             26.0\n<1H OCEAN     30.0\nINLAND        23.0\nISLAND        52.0\nNEAR BAY      39.0\nNEAR OCEAN    29.0\nName: housing_median_age, dtype: float64"
     },
     "execution_count": 126,
     "metadata": {},
     "output_type": "execute_result"
    }
   ],
   "source": [
    "df.groupby('ocean_proximity')['housing_median_age'].median()"
   ],
   "metadata": {
    "collapsed": false,
    "pycharm": {
     "name": "#%%\n"
    }
   }
  },
  {
   "cell_type": "code",
   "execution_count": 127,
   "outputs": [],
   "source": [
    "df.loc[df['housing_median_age'].isna(), 'housing_median_age'] = df.groupby('ocean_proximity')['housing_median_age'].transform(lambda x: x.median())"
   ],
   "metadata": {
    "collapsed": false,
    "pycharm": {
     "name": "#%%\n"
    }
   }
  },
  {
   "cell_type": "code",
   "execution_count": 128,
   "outputs": [
    {
     "data": {
      "text/plain": "count    20640.000000\nmean        28.640455\nstd         12.384944\nmin          1.000000\n25%         19.000000\n50%         29.000000\n75%         37.000000\nmax         52.000000\nName: housing_median_age, dtype: float64"
     },
     "execution_count": 128,
     "metadata": {},
     "output_type": "execute_result"
    }
   ],
   "source": [
    "df['housing_median_age'].describe()"
   ],
   "metadata": {
    "collapsed": false,
    "pycharm": {
     "name": "#%%\n"
    }
   }
  },
  {
   "cell_type": "code",
   "execution_count": 129,
   "outputs": [],
   "source": [
    "df['total_bedrooms'].fillna(df['total_bedrooms'].median(), inplace=True)"
   ],
   "metadata": {
    "collapsed": false,
    "pycharm": {
     "name": "#%%\n"
    }
   }
  },
  {
   "cell_type": "code",
   "execution_count": 130,
   "outputs": [],
   "source": [
    "df['population'].fillna(df['population'].median(), inplace=True)"
   ],
   "metadata": {
    "collapsed": false,
    "pycharm": {
     "name": "#%%\n"
    }
   }
  },
  {
   "cell_type": "code",
   "execution_count": 131,
   "outputs": [
    {
     "data": {
      "text/plain": "'<1H OCEAN'"
     },
     "execution_count": 131,
     "metadata": {},
     "output_type": "execute_result"
    }
   ],
   "source": [
    "df['ocean_proximity'].mode()[0]"
   ],
   "metadata": {
    "collapsed": false,
    "pycharm": {
     "name": "#%%\n"
    }
   }
  },
  {
   "cell_type": "code",
   "execution_count": 132,
   "outputs": [],
   "source": [
    "df.replace({'ocean_proximity': {'-' : df['ocean_proximity'].mode()[0]}}, inplace=True)\n"
   ],
   "metadata": {
    "collapsed": false,
    "pycharm": {
     "name": "#%%\n"
    }
   }
  },
  {
   "cell_type": "code",
   "execution_count": 133,
   "outputs": [
    {
     "data": {
      "text/plain": "<1H OCEAN     9150\nINLAND        6542\nNEAR OCEAN    2655\nNEAR BAY      2288\nISLAND           5\nName: ocean_proximity, dtype: int64"
     },
     "execution_count": 133,
     "metadata": {},
     "output_type": "execute_result"
    }
   ],
   "source": [
    "df['ocean_proximity'].value_counts()"
   ],
   "metadata": {
    "collapsed": false,
    "pycharm": {
     "name": "#%%\n"
    }
   }
  },
  {
   "cell_type": "code",
   "execution_count": 134,
   "outputs": [],
   "source": [
    "df.replace({'ocean_proximity':{'ISLAND': 'NEAR OCEAN'}}, inplace=True)"
   ],
   "metadata": {
    "collapsed": false,
    "pycharm": {
     "name": "#%%\n"
    }
   }
  },
  {
   "cell_type": "code",
   "execution_count": 135,
   "outputs": [
    {
     "data": {
      "text/plain": "          longitude      latitude  housing_median_age   total_rooms  \\\ncount  20640.000000  20640.000000        20640.000000  20640.000000   \nmean    -119.471242     35.036934           28.640455   2635.763081   \nstd        5.041408     94.903955           12.384944   2181.615252   \nmin     -124.350000 -13534.030000            1.000000      2.000000   \n25%     -121.800000     33.930000           19.000000   1447.750000   \n50%     -118.490000     34.260000           29.000000   2127.000000   \n75%     -118.010000     37.710000           37.000000   3148.000000   \nmax      122.030000   1327.130000           52.000000  39320.000000   \n\n       total_bedrooms    population    households  median_income  \\\ncount    20640.000000  20640.000000  20640.000000   20640.000000   \nmean       536.838857   1417.860562    499.539680       3.870671   \nstd        419.391878   1119.445348    382.329753       1.899822   \nmin          1.000000      3.000000      1.000000       0.499900   \n25%        297.000000    797.000000    280.000000       2.563400   \n50%        435.000000   1165.000000    409.000000       3.534800   \n75%        643.250000   1701.000000    605.000000       4.743250   \nmax       6445.000000  35682.000000   6082.000000      15.000100   \n\n       median_house_value  \ncount        20640.000000  \nmean        206855.816909  \nstd         115395.615874  \nmin          14999.000000  \n25%         119600.000000  \n50%         179700.000000  \n75%         264725.000000  \nmax         500001.000000  ",
      "text/html": "<div>\n<style scoped>\n    .dataframe tbody tr th:only-of-type {\n        vertical-align: middle;\n    }\n\n    .dataframe tbody tr th {\n        vertical-align: top;\n    }\n\n    .dataframe thead th {\n        text-align: right;\n    }\n</style>\n<table border=\"1\" class=\"dataframe\">\n  <thead>\n    <tr style=\"text-align: right;\">\n      <th></th>\n      <th>longitude</th>\n      <th>latitude</th>\n      <th>housing_median_age</th>\n      <th>total_rooms</th>\n      <th>total_bedrooms</th>\n      <th>population</th>\n      <th>households</th>\n      <th>median_income</th>\n      <th>median_house_value</th>\n    </tr>\n  </thead>\n  <tbody>\n    <tr>\n      <th>count</th>\n      <td>20640.000000</td>\n      <td>20640.000000</td>\n      <td>20640.000000</td>\n      <td>20640.000000</td>\n      <td>20640.000000</td>\n      <td>20640.000000</td>\n      <td>20640.000000</td>\n      <td>20640.000000</td>\n      <td>20640.000000</td>\n    </tr>\n    <tr>\n      <th>mean</th>\n      <td>-119.471242</td>\n      <td>35.036934</td>\n      <td>28.640455</td>\n      <td>2635.763081</td>\n      <td>536.838857</td>\n      <td>1417.860562</td>\n      <td>499.539680</td>\n      <td>3.870671</td>\n      <td>206855.816909</td>\n    </tr>\n    <tr>\n      <th>std</th>\n      <td>5.041408</td>\n      <td>94.903955</td>\n      <td>12.384944</td>\n      <td>2181.615252</td>\n      <td>419.391878</td>\n      <td>1119.445348</td>\n      <td>382.329753</td>\n      <td>1.899822</td>\n      <td>115395.615874</td>\n    </tr>\n    <tr>\n      <th>min</th>\n      <td>-124.350000</td>\n      <td>-13534.030000</td>\n      <td>1.000000</td>\n      <td>2.000000</td>\n      <td>1.000000</td>\n      <td>3.000000</td>\n      <td>1.000000</td>\n      <td>0.499900</td>\n      <td>14999.000000</td>\n    </tr>\n    <tr>\n      <th>25%</th>\n      <td>-121.800000</td>\n      <td>33.930000</td>\n      <td>19.000000</td>\n      <td>1447.750000</td>\n      <td>297.000000</td>\n      <td>797.000000</td>\n      <td>280.000000</td>\n      <td>2.563400</td>\n      <td>119600.000000</td>\n    </tr>\n    <tr>\n      <th>50%</th>\n      <td>-118.490000</td>\n      <td>34.260000</td>\n      <td>29.000000</td>\n      <td>2127.000000</td>\n      <td>435.000000</td>\n      <td>1165.000000</td>\n      <td>409.000000</td>\n      <td>3.534800</td>\n      <td>179700.000000</td>\n    </tr>\n    <tr>\n      <th>75%</th>\n      <td>-118.010000</td>\n      <td>37.710000</td>\n      <td>37.000000</td>\n      <td>3148.000000</td>\n      <td>643.250000</td>\n      <td>1701.000000</td>\n      <td>605.000000</td>\n      <td>4.743250</td>\n      <td>264725.000000</td>\n    </tr>\n    <tr>\n      <th>max</th>\n      <td>122.030000</td>\n      <td>1327.130000</td>\n      <td>52.000000</td>\n      <td>39320.000000</td>\n      <td>6445.000000</td>\n      <td>35682.000000</td>\n      <td>6082.000000</td>\n      <td>15.000100</td>\n      <td>500001.000000</td>\n    </tr>\n  </tbody>\n</table>\n</div>"
     },
     "execution_count": 135,
     "metadata": {},
     "output_type": "execute_result"
    }
   ],
   "source": [
    "df.describe()"
   ],
   "metadata": {
    "collapsed": false,
    "pycharm": {
     "name": "#%%\n"
    }
   }
  },
  {
   "cell_type": "code",
   "execution_count": 136,
   "outputs": [
    {
     "data": {
      "text/plain": "count    20640.000000\nmean      -119.471242\nstd          5.041408\nmin       -124.350000\n25%       -121.800000\n50%       -118.490000\n75%       -118.010000\nmax        122.030000\nName: longitude, dtype: float64"
     },
     "execution_count": 136,
     "metadata": {},
     "output_type": "execute_result"
    }
   ],
   "source": [
    "df['longitude'].describe()"
   ],
   "metadata": {
    "collapsed": false,
    "pycharm": {
     "name": "#%%\n"
    }
   }
  },
  {
   "cell_type": "code",
   "execution_count": 137,
   "outputs": [
    {
     "data": {
      "text/plain": "       longitude  latitude  housing_median_age  total_rooms  total_bedrooms  \\\nid                                                                            \n3479      118.51     34.29                29.0       1287.0           194.0   \n5904      118.43     34.29                39.0       1769.0           410.0   \n8405      118.36     33.93                40.0       1625.0           500.0   \n8636      118.41     33.88                43.0       2492.0           449.0   \n13051     121.29     38.61                17.0      13553.0          2474.0   \n15263     117.27     33.02                21.0       2144.0           340.0   \n17085       0.00     37.47                33.0       1266.0           415.0   \n17359       0.00     34.88                 4.0       3680.0           559.0   \n18551     122.03     36.96                28.0       1607.0           421.0   \n19423       0.00     37.69                 5.0       9601.0          1639.0   \n\n       population  households  median_income  median_house_value  \\\nid                                                                 \n3479        525.0       187.0         6.4171            319300.0   \n5904       1499.0       390.0         3.1212            153500.0   \n8405       2036.0       476.0         2.6298            156500.0   \n8636       1033.0       437.0         7.9614            500001.0   \n13051      6544.0      2359.0         3.9727            132700.0   \n15263       928.0       344.0         5.7980            286100.0   \n17085      1991.0       334.0         2.9200            202800.0   \n17359      1678.0       569.0         5.0639            201700.0   \n18551       926.0       385.0         2.4250            216100.0   \n19423      4449.0      1575.0         4.5332            195500.0   \n\n      ocean_proximity  \nid                     \n3479        <1H OCEAN  \n5904        <1H OCEAN  \n8405        <1H OCEAN  \n8636        <1H OCEAN  \n13051          INLAND  \n15263      NEAR OCEAN  \n17085      NEAR OCEAN  \n17359       <1H OCEAN  \n18551      NEAR OCEAN  \n19423          INLAND  ",
      "text/html": "<div>\n<style scoped>\n    .dataframe tbody tr th:only-of-type {\n        vertical-align: middle;\n    }\n\n    .dataframe tbody tr th {\n        vertical-align: top;\n    }\n\n    .dataframe thead th {\n        text-align: right;\n    }\n</style>\n<table border=\"1\" class=\"dataframe\">\n  <thead>\n    <tr style=\"text-align: right;\">\n      <th></th>\n      <th>longitude</th>\n      <th>latitude</th>\n      <th>housing_median_age</th>\n      <th>total_rooms</th>\n      <th>total_bedrooms</th>\n      <th>population</th>\n      <th>households</th>\n      <th>median_income</th>\n      <th>median_house_value</th>\n      <th>ocean_proximity</th>\n    </tr>\n    <tr>\n      <th>id</th>\n      <th></th>\n      <th></th>\n      <th></th>\n      <th></th>\n      <th></th>\n      <th></th>\n      <th></th>\n      <th></th>\n      <th></th>\n      <th></th>\n    </tr>\n  </thead>\n  <tbody>\n    <tr>\n      <th>3479</th>\n      <td>118.51</td>\n      <td>34.29</td>\n      <td>29.0</td>\n      <td>1287.0</td>\n      <td>194.0</td>\n      <td>525.0</td>\n      <td>187.0</td>\n      <td>6.4171</td>\n      <td>319300.0</td>\n      <td>&lt;1H OCEAN</td>\n    </tr>\n    <tr>\n      <th>5904</th>\n      <td>118.43</td>\n      <td>34.29</td>\n      <td>39.0</td>\n      <td>1769.0</td>\n      <td>410.0</td>\n      <td>1499.0</td>\n      <td>390.0</td>\n      <td>3.1212</td>\n      <td>153500.0</td>\n      <td>&lt;1H OCEAN</td>\n    </tr>\n    <tr>\n      <th>8405</th>\n      <td>118.36</td>\n      <td>33.93</td>\n      <td>40.0</td>\n      <td>1625.0</td>\n      <td>500.0</td>\n      <td>2036.0</td>\n      <td>476.0</td>\n      <td>2.6298</td>\n      <td>156500.0</td>\n      <td>&lt;1H OCEAN</td>\n    </tr>\n    <tr>\n      <th>8636</th>\n      <td>118.41</td>\n      <td>33.88</td>\n      <td>43.0</td>\n      <td>2492.0</td>\n      <td>449.0</td>\n      <td>1033.0</td>\n      <td>437.0</td>\n      <td>7.9614</td>\n      <td>500001.0</td>\n      <td>&lt;1H OCEAN</td>\n    </tr>\n    <tr>\n      <th>13051</th>\n      <td>121.29</td>\n      <td>38.61</td>\n      <td>17.0</td>\n      <td>13553.0</td>\n      <td>2474.0</td>\n      <td>6544.0</td>\n      <td>2359.0</td>\n      <td>3.9727</td>\n      <td>132700.0</td>\n      <td>INLAND</td>\n    </tr>\n    <tr>\n      <th>15263</th>\n      <td>117.27</td>\n      <td>33.02</td>\n      <td>21.0</td>\n      <td>2144.0</td>\n      <td>340.0</td>\n      <td>928.0</td>\n      <td>344.0</td>\n      <td>5.7980</td>\n      <td>286100.0</td>\n      <td>NEAR OCEAN</td>\n    </tr>\n    <tr>\n      <th>17085</th>\n      <td>0.00</td>\n      <td>37.47</td>\n      <td>33.0</td>\n      <td>1266.0</td>\n      <td>415.0</td>\n      <td>1991.0</td>\n      <td>334.0</td>\n      <td>2.9200</td>\n      <td>202800.0</td>\n      <td>NEAR OCEAN</td>\n    </tr>\n    <tr>\n      <th>17359</th>\n      <td>0.00</td>\n      <td>34.88</td>\n      <td>4.0</td>\n      <td>3680.0</td>\n      <td>559.0</td>\n      <td>1678.0</td>\n      <td>569.0</td>\n      <td>5.0639</td>\n      <td>201700.0</td>\n      <td>&lt;1H OCEAN</td>\n    </tr>\n    <tr>\n      <th>18551</th>\n      <td>122.03</td>\n      <td>36.96</td>\n      <td>28.0</td>\n      <td>1607.0</td>\n      <td>421.0</td>\n      <td>926.0</td>\n      <td>385.0</td>\n      <td>2.4250</td>\n      <td>216100.0</td>\n      <td>NEAR OCEAN</td>\n    </tr>\n    <tr>\n      <th>19423</th>\n      <td>0.00</td>\n      <td>37.69</td>\n      <td>5.0</td>\n      <td>9601.0</td>\n      <td>1639.0</td>\n      <td>4449.0</td>\n      <td>1575.0</td>\n      <td>4.5332</td>\n      <td>195500.0</td>\n      <td>INLAND</td>\n    </tr>\n  </tbody>\n</table>\n</div>"
     },
     "execution_count": 137,
     "metadata": {},
     "output_type": "execute_result"
    }
   ],
   "source": [
    "df[(df['longitude']<-125) | (df['longitude'] > -114)]"
   ],
   "metadata": {
    "collapsed": false,
    "pycharm": {
     "name": "#%%\n"
    }
   }
  },
  {
   "cell_type": "code",
   "execution_count": 138,
   "outputs": [
    {
     "data": {
      "text/plain": "(20637, 10)"
     },
     "execution_count": 138,
     "metadata": {},
     "output_type": "execute_result"
    }
   ],
   "source": [
    "df.loc[df['longitude'] > 0, 'longitude'] = df.loc[df['longitude']>0, 'longitude'] * -1\n",
    "df.drop(df[df['longitude'] == 0].index, inplace=True)\n",
    "df.shape"
   ],
   "metadata": {
    "collapsed": false,
    "pycharm": {
     "name": "#%%\n"
    }
   }
  },
  {
   "cell_type": "code",
   "execution_count": 138,
   "outputs": [],
   "source": [],
   "metadata": {
    "collapsed": false,
    "pycharm": {
     "name": "#%%\n"
    }
   }
  },
  {
   "cell_type": "code",
   "execution_count": 139,
   "outputs": [
    {
     "data": {
      "text/plain": "       longitude  latitude  housing_median_age  total_rooms  total_bedrooms  \\\nid                                                                            \n8283     -118.13 -13534.03                45.0       1016.0           172.0   \n12772    -121.42   1327.13                23.0       2217.0           536.0   \n\n       population  households  median_income  median_house_value  \\\nid                                                                 \n8283        361.0       163.0         7.5000            434500.0   \n12772      1203.0       507.0         1.9412             73100.0   \n\n      ocean_proximity  \nid                     \n8283       NEAR OCEAN  \n12772          INLAND  ",
      "text/html": "<div>\n<style scoped>\n    .dataframe tbody tr th:only-of-type {\n        vertical-align: middle;\n    }\n\n    .dataframe tbody tr th {\n        vertical-align: top;\n    }\n\n    .dataframe thead th {\n        text-align: right;\n    }\n</style>\n<table border=\"1\" class=\"dataframe\">\n  <thead>\n    <tr style=\"text-align: right;\">\n      <th></th>\n      <th>longitude</th>\n      <th>latitude</th>\n      <th>housing_median_age</th>\n      <th>total_rooms</th>\n      <th>total_bedrooms</th>\n      <th>population</th>\n      <th>households</th>\n      <th>median_income</th>\n      <th>median_house_value</th>\n      <th>ocean_proximity</th>\n    </tr>\n    <tr>\n      <th>id</th>\n      <th></th>\n      <th></th>\n      <th></th>\n      <th></th>\n      <th></th>\n      <th></th>\n      <th></th>\n      <th></th>\n      <th></th>\n      <th></th>\n    </tr>\n  </thead>\n  <tbody>\n    <tr>\n      <th>8283</th>\n      <td>-118.13</td>\n      <td>-13534.03</td>\n      <td>45.0</td>\n      <td>1016.0</td>\n      <td>172.0</td>\n      <td>361.0</td>\n      <td>163.0</td>\n      <td>7.5000</td>\n      <td>434500.0</td>\n      <td>NEAR OCEAN</td>\n    </tr>\n    <tr>\n      <th>12772</th>\n      <td>-121.42</td>\n      <td>1327.13</td>\n      <td>23.0</td>\n      <td>2217.0</td>\n      <td>536.0</td>\n      <td>1203.0</td>\n      <td>507.0</td>\n      <td>1.9412</td>\n      <td>73100.0</td>\n      <td>INLAND</td>\n    </tr>\n  </tbody>\n</table>\n</div>"
     },
     "execution_count": 139,
     "metadata": {},
     "output_type": "execute_result"
    }
   ],
   "source": [
    "df[(df['latitude']<-32) | (df['latitude'] > 42)]"
   ],
   "metadata": {
    "collapsed": false,
    "pycharm": {
     "name": "#%%\n"
    }
   }
  },
  {
   "cell_type": "code",
   "execution_count": 140,
   "outputs": [],
   "source": [
    "df.drop(df[(df['latitude']<-32) | (df['latitude'] > 42)].index, inplace=True)"
   ],
   "metadata": {
    "collapsed": false,
    "pycharm": {
     "name": "#%%\n"
    }
   }
  },
  {
   "cell_type": "code",
   "execution_count": 141,
   "outputs": [
    {
     "data": {
      "text/plain": "(20635, 10)"
     },
     "execution_count": 141,
     "metadata": {},
     "output_type": "execute_result"
    }
   ],
   "source": [
    "df.shape"
   ],
   "metadata": {
    "collapsed": false,
    "pycharm": {
     "name": "#%%\n"
    }
   }
  },
  {
   "cell_type": "code",
   "execution_count": 143,
   "outputs": [
    {
     "data": {
      "text/plain": "ocean_proximity\n<1H OCEAN     34.03\nINLAND        36.97\nNEAR BAY      37.79\nNEAR OCEAN    33.79\nName: latitude, dtype: float64"
     },
     "execution_count": 143,
     "metadata": {},
     "output_type": "execute_result"
    }
   ],
   "source": [
    "df.groupby('ocean_proximity')['latitude'].median()"
   ],
   "metadata": {
    "collapsed": false,
    "pycharm": {
     "name": "#%%\n"
    }
   }
  },
  {
   "cell_type": "code",
   "execution_count": 144,
   "outputs": [
    {
     "data": {
      "text/plain": "       <1H OCEAN  INLAND  NEAR BAY  NEAR OCEAN\nid                                            \n0              0       0         1           0\n1              0       0         1           0\n2              0       0         1           0\n3              0       0         1           0\n4              0       0         1           0\n...          ...     ...       ...         ...\n20635          0       1         0           0\n20636          0       1         0           0\n20637          0       1         0           0\n20638          0       1         0           0\n20639          0       1         0           0\n\n[20635 rows x 4 columns]",
      "text/html": "<div>\n<style scoped>\n    .dataframe tbody tr th:only-of-type {\n        vertical-align: middle;\n    }\n\n    .dataframe tbody tr th {\n        vertical-align: top;\n    }\n\n    .dataframe thead th {\n        text-align: right;\n    }\n</style>\n<table border=\"1\" class=\"dataframe\">\n  <thead>\n    <tr style=\"text-align: right;\">\n      <th></th>\n      <th>&lt;1H OCEAN</th>\n      <th>INLAND</th>\n      <th>NEAR BAY</th>\n      <th>NEAR OCEAN</th>\n    </tr>\n    <tr>\n      <th>id</th>\n      <th></th>\n      <th></th>\n      <th></th>\n      <th></th>\n    </tr>\n  </thead>\n  <tbody>\n    <tr>\n      <th>0</th>\n      <td>0</td>\n      <td>0</td>\n      <td>1</td>\n      <td>0</td>\n    </tr>\n    <tr>\n      <th>1</th>\n      <td>0</td>\n      <td>0</td>\n      <td>1</td>\n      <td>0</td>\n    </tr>\n    <tr>\n      <th>2</th>\n      <td>0</td>\n      <td>0</td>\n      <td>1</td>\n      <td>0</td>\n    </tr>\n    <tr>\n      <th>3</th>\n      <td>0</td>\n      <td>0</td>\n      <td>1</td>\n      <td>0</td>\n    </tr>\n    <tr>\n      <th>4</th>\n      <td>0</td>\n      <td>0</td>\n      <td>1</td>\n      <td>0</td>\n    </tr>\n    <tr>\n      <th>...</th>\n      <td>...</td>\n      <td>...</td>\n      <td>...</td>\n      <td>...</td>\n    </tr>\n    <tr>\n      <th>20635</th>\n      <td>0</td>\n      <td>1</td>\n      <td>0</td>\n      <td>0</td>\n    </tr>\n    <tr>\n      <th>20636</th>\n      <td>0</td>\n      <td>1</td>\n      <td>0</td>\n      <td>0</td>\n    </tr>\n    <tr>\n      <th>20637</th>\n      <td>0</td>\n      <td>1</td>\n      <td>0</td>\n      <td>0</td>\n    </tr>\n    <tr>\n      <th>20638</th>\n      <td>0</td>\n      <td>1</td>\n      <td>0</td>\n      <td>0</td>\n    </tr>\n    <tr>\n      <th>20639</th>\n      <td>0</td>\n      <td>1</td>\n      <td>0</td>\n      <td>0</td>\n    </tr>\n  </tbody>\n</table>\n<p>20635 rows × 4 columns</p>\n</div>"
     },
     "execution_count": 144,
     "metadata": {},
     "output_type": "execute_result"
    }
   ],
   "source": [
    "ocean_pr = pd.get_dummies(df['ocean_proximity'])\n",
    "ocean_pr"
   ],
   "metadata": {
    "collapsed": false,
    "pycharm": {
     "name": "#%%\n"
    }
   }
  },
  {
   "cell_type": "code",
   "execution_count": 147,
   "outputs": [
    {
     "data": {
      "text/plain": "    longitude  latitude  housing_median_age  total_rooms  total_bedrooms  \\\nid                                                                         \n0     -122.23     37.88                41.0        880.0           129.0   \n1     -122.22     37.86                21.0       7099.0          1106.0   \n2     -122.24     37.85                52.0       1467.0           190.0   \n3     -122.25     37.85                52.0       1274.0           235.0   \n4     -122.25     37.85                52.0       1627.0           280.0   \n\n    population  households  median_income  median_house_value ocean_proximity  \\\nid                                                                              \n0        322.0       126.0         8.3252            452600.0        NEAR BAY   \n1       2401.0      1138.0         8.3014            358500.0        NEAR BAY   \n2        496.0       177.0         7.2574            352100.0        NEAR BAY   \n3        558.0       219.0         5.6431            341300.0        NEAR BAY   \n4        565.0       259.0         3.8462            342200.0        NEAR BAY   \n\n    <1H OCEAN  INLAND  NEAR BAY  NEAR OCEAN  \nid                                           \n0           0       0         1           0  \n1           0       0         1           0  \n2           0       0         1           0  \n3           0       0         1           0  \n4           0       0         1           0  ",
      "text/html": "<div>\n<style scoped>\n    .dataframe tbody tr th:only-of-type {\n        vertical-align: middle;\n    }\n\n    .dataframe tbody tr th {\n        vertical-align: top;\n    }\n\n    .dataframe thead th {\n        text-align: right;\n    }\n</style>\n<table border=\"1\" class=\"dataframe\">\n  <thead>\n    <tr style=\"text-align: right;\">\n      <th></th>\n      <th>longitude</th>\n      <th>latitude</th>\n      <th>housing_median_age</th>\n      <th>total_rooms</th>\n      <th>total_bedrooms</th>\n      <th>population</th>\n      <th>households</th>\n      <th>median_income</th>\n      <th>median_house_value</th>\n      <th>ocean_proximity</th>\n      <th>&lt;1H OCEAN</th>\n      <th>INLAND</th>\n      <th>NEAR BAY</th>\n      <th>NEAR OCEAN</th>\n    </tr>\n    <tr>\n      <th>id</th>\n      <th></th>\n      <th></th>\n      <th></th>\n      <th></th>\n      <th></th>\n      <th></th>\n      <th></th>\n      <th></th>\n      <th></th>\n      <th></th>\n      <th></th>\n      <th></th>\n      <th></th>\n      <th></th>\n    </tr>\n  </thead>\n  <tbody>\n    <tr>\n      <th>0</th>\n      <td>-122.23</td>\n      <td>37.88</td>\n      <td>41.0</td>\n      <td>880.0</td>\n      <td>129.0</td>\n      <td>322.0</td>\n      <td>126.0</td>\n      <td>8.3252</td>\n      <td>452600.0</td>\n      <td>NEAR BAY</td>\n      <td>0</td>\n      <td>0</td>\n      <td>1</td>\n      <td>0</td>\n    </tr>\n    <tr>\n      <th>1</th>\n      <td>-122.22</td>\n      <td>37.86</td>\n      <td>21.0</td>\n      <td>7099.0</td>\n      <td>1106.0</td>\n      <td>2401.0</td>\n      <td>1138.0</td>\n      <td>8.3014</td>\n      <td>358500.0</td>\n      <td>NEAR BAY</td>\n      <td>0</td>\n      <td>0</td>\n      <td>1</td>\n      <td>0</td>\n    </tr>\n    <tr>\n      <th>2</th>\n      <td>-122.24</td>\n      <td>37.85</td>\n      <td>52.0</td>\n      <td>1467.0</td>\n      <td>190.0</td>\n      <td>496.0</td>\n      <td>177.0</td>\n      <td>7.2574</td>\n      <td>352100.0</td>\n      <td>NEAR BAY</td>\n      <td>0</td>\n      <td>0</td>\n      <td>1</td>\n      <td>0</td>\n    </tr>\n    <tr>\n      <th>3</th>\n      <td>-122.25</td>\n      <td>37.85</td>\n      <td>52.0</td>\n      <td>1274.0</td>\n      <td>235.0</td>\n      <td>558.0</td>\n      <td>219.0</td>\n      <td>5.6431</td>\n      <td>341300.0</td>\n      <td>NEAR BAY</td>\n      <td>0</td>\n      <td>0</td>\n      <td>1</td>\n      <td>0</td>\n    </tr>\n    <tr>\n      <th>4</th>\n      <td>-122.25</td>\n      <td>37.85</td>\n      <td>52.0</td>\n      <td>1627.0</td>\n      <td>280.0</td>\n      <td>565.0</td>\n      <td>259.0</td>\n      <td>3.8462</td>\n      <td>342200.0</td>\n      <td>NEAR BAY</td>\n      <td>0</td>\n      <td>0</td>\n      <td>1</td>\n      <td>0</td>\n    </tr>\n  </tbody>\n</table>\n</div>"
     },
     "execution_count": 147,
     "metadata": {},
     "output_type": "execute_result"
    }
   ],
   "source": [
    "# df = pd.compat([df, ocean_pr], axis=1)\n",
    "df[ocean_pr.columns] = ocean_pr\n",
    "ocean_pr.columns\n",
    "df.head()"
   ],
   "metadata": {
    "collapsed": false,
    "pycharm": {
     "name": "#%%\n"
    }
   }
  },
  {
   "cell_type": "code",
   "execution_count": 149,
   "outputs": [
    {
     "data": {
      "text/plain": "Index(['<1H OCEAN', 'INLAND', 'NEAR BAY', 'NEAR OCEAN'], dtype='object')"
     },
     "execution_count": 149,
     "metadata": {},
     "output_type": "execute_result"
    }
   ],
   "source": [
    "ocean_pr.columns"
   ],
   "metadata": {
    "collapsed": false,
    "pycharm": {
     "name": "#%%\n"
    }
   }
  },
  {
   "cell_type": "code",
   "execution_count": 150,
   "outputs": [
    {
     "data": {
      "text/plain": "                       longitude      latitude  housing_median_age  \\\nlongitude               4.014369     -3.957263           -2.650270   \nlatitude               -3.957263      4.562400            0.207061   \nhousing_median_age     -2.650270      0.207061          153.352054   \ntotal_rooms           195.290045   -168.877855        -9491.972996   \ntotal_bedrooms         58.182168    -59.701688        -1613.775911   \npopulation            222.629014   -258.000217        -3950.847141   \nhouseholds             42.460777    -58.145590        -1396.090806   \nmedian_income          -0.058231     -0.323270           -2.650003   \nmedian_house_value -10659.415299 -35499.998424       156577.167904   \n<1H OCEAN               0.319490     -0.473578            0.302256   \nINLAND                 -0.052052      0.348712           -1.404580   \nNEAR BAY               -0.298417      0.240521            1.012889   \nNEAR OCEAN              0.030979     -0.115655            0.089435   \n\n                     total_rooms  total_bedrooms    population    households  \\\nlongitude           1.952900e+02    5.818217e+01  2.226290e+02  4.246078e+01   \nlatitude           -1.688779e+02   -5.970169e+01 -2.580002e+02 -5.814559e+01   \nhousing_median_age -9.491973e+03   -1.613776e+03 -3.950847e+03 -1.396091e+03   \ntotal_rooms         4.757968e+06    8.480091e+05  2.061322e+06  7.658865e+05   \ntotal_bedrooms      8.480091e+05    1.758661e+05  4.045477e+05  1.562091e+05   \npopulation          2.061322e+06    4.045477e+05  1.252941e+06  3.820340e+05   \nhouseholds          7.658865e+05    1.562091e+05  3.820340e+05  1.461484e+05   \nmedian_income       8.209499e+02   -6.048561e+00  9.765025e+00  9.482673e+00   \nmedian_house_value  3.380005e+07    2.398701e+06 -3.119404e+06  2.909965e+06   \n<1H OCEAN          -3.200562e+00    3.746469e+00  4.125532e+01  8.055820e+00   \nINLAND              2.556202e+01   -1.275870e+00 -1.037905e+01 -7.076253e+00   \nNEAR BAY           -1.579702e+01   -2.587317e+00 -2.159559e+01 -1.211626e+00   \nNEAR OCEAN         -6.564437e+00    1.167174e-01 -9.280673e+00  2.320585e-01   \n\n                    median_income  median_house_value     <1H OCEAN  \\\nlongitude               -0.058231       -1.065942e+04      0.319490   \nlatitude                -0.323270       -3.550000e+04     -0.473578   \nhousing_median_age      -2.650003        1.565772e+05      0.302256   \ntotal_rooms            820.949893        3.380005e+07     -3.200562   \ntotal_bedrooms          -6.048561        2.398701e+06      3.746469   \npopulation               9.765025       -3.119404e+06     41.255319   \nhouseholds               9.482673        2.909965e+06      8.055820   \nmedian_income            3.609244        1.508320e+05      0.158909   \nmedian_house_value  150831.963477        1.331599e+10  14672.563323   \n<1H OCEAN                0.158909        1.467256e+04      0.246805   \nINLAND                  -0.209618       -2.600991e+04     -0.140528   \nNEAR BAY                 0.033461        5.817889e+03     -0.049163   \nNEAR OCEAN               0.017248        5.519453e+03     -0.057114   \n\n                          INLAND     NEAR BAY   NEAR OCEAN  \nlongitude              -0.052052    -0.298417     0.030979  \nlatitude                0.348712     0.240521    -0.115655  \nhousing_median_age     -1.404580     1.012889     0.089435  \ntotal_rooms            25.562021   -15.797022    -6.564437  \ntotal_bedrooms         -1.275870    -2.587317     0.116717  \npopulation            -10.379052   -21.595594    -9.280673  \nhouseholds             -7.076253    -1.211626     0.232059  \nmedian_income          -0.209618     0.033461     0.017248  \nmedian_house_value -26009.905082  5817.888665  5519.453094  \n<1H OCEAN              -0.140528    -0.049163    -0.057114  \nINLAND                  0.216499    -0.035144    -0.040827  \nNEAR BAY               -0.035144     0.098590    -0.014283  \nNEAR OCEAN             -0.040827    -0.014283     0.112224  ",
      "text/html": "<div>\n<style scoped>\n    .dataframe tbody tr th:only-of-type {\n        vertical-align: middle;\n    }\n\n    .dataframe tbody tr th {\n        vertical-align: top;\n    }\n\n    .dataframe thead th {\n        text-align: right;\n    }\n</style>\n<table border=\"1\" class=\"dataframe\">\n  <thead>\n    <tr style=\"text-align: right;\">\n      <th></th>\n      <th>longitude</th>\n      <th>latitude</th>\n      <th>housing_median_age</th>\n      <th>total_rooms</th>\n      <th>total_bedrooms</th>\n      <th>population</th>\n      <th>households</th>\n      <th>median_income</th>\n      <th>median_house_value</th>\n      <th>&lt;1H OCEAN</th>\n      <th>INLAND</th>\n      <th>NEAR BAY</th>\n      <th>NEAR OCEAN</th>\n    </tr>\n  </thead>\n  <tbody>\n    <tr>\n      <th>longitude</th>\n      <td>4.014369</td>\n      <td>-3.957263</td>\n      <td>-2.650270</td>\n      <td>1.952900e+02</td>\n      <td>5.818217e+01</td>\n      <td>2.226290e+02</td>\n      <td>4.246078e+01</td>\n      <td>-0.058231</td>\n      <td>-1.065942e+04</td>\n      <td>0.319490</td>\n      <td>-0.052052</td>\n      <td>-0.298417</td>\n      <td>0.030979</td>\n    </tr>\n    <tr>\n      <th>latitude</th>\n      <td>-3.957263</td>\n      <td>4.562400</td>\n      <td>0.207061</td>\n      <td>-1.688779e+02</td>\n      <td>-5.970169e+01</td>\n      <td>-2.580002e+02</td>\n      <td>-5.814559e+01</td>\n      <td>-0.323270</td>\n      <td>-3.550000e+04</td>\n      <td>-0.473578</td>\n      <td>0.348712</td>\n      <td>0.240521</td>\n      <td>-0.115655</td>\n    </tr>\n    <tr>\n      <th>housing_median_age</th>\n      <td>-2.650270</td>\n      <td>0.207061</td>\n      <td>153.352054</td>\n      <td>-9.491973e+03</td>\n      <td>-1.613776e+03</td>\n      <td>-3.950847e+03</td>\n      <td>-1.396091e+03</td>\n      <td>-2.650003</td>\n      <td>1.565772e+05</td>\n      <td>0.302256</td>\n      <td>-1.404580</td>\n      <td>1.012889</td>\n      <td>0.089435</td>\n    </tr>\n    <tr>\n      <th>total_rooms</th>\n      <td>195.290045</td>\n      <td>-168.877855</td>\n      <td>-9491.972996</td>\n      <td>4.757968e+06</td>\n      <td>8.480091e+05</td>\n      <td>2.061322e+06</td>\n      <td>7.658865e+05</td>\n      <td>820.949893</td>\n      <td>3.380005e+07</td>\n      <td>-3.200562</td>\n      <td>25.562021</td>\n      <td>-15.797022</td>\n      <td>-6.564437</td>\n    </tr>\n    <tr>\n      <th>total_bedrooms</th>\n      <td>58.182168</td>\n      <td>-59.701688</td>\n      <td>-1613.775911</td>\n      <td>8.480091e+05</td>\n      <td>1.758661e+05</td>\n      <td>4.045477e+05</td>\n      <td>1.562091e+05</td>\n      <td>-6.048561</td>\n      <td>2.398701e+06</td>\n      <td>3.746469</td>\n      <td>-1.275870</td>\n      <td>-2.587317</td>\n      <td>0.116717</td>\n    </tr>\n    <tr>\n      <th>population</th>\n      <td>222.629014</td>\n      <td>-258.000217</td>\n      <td>-3950.847141</td>\n      <td>2.061322e+06</td>\n      <td>4.045477e+05</td>\n      <td>1.252941e+06</td>\n      <td>3.820340e+05</td>\n      <td>9.765025</td>\n      <td>-3.119404e+06</td>\n      <td>41.255319</td>\n      <td>-10.379052</td>\n      <td>-21.595594</td>\n      <td>-9.280673</td>\n    </tr>\n    <tr>\n      <th>households</th>\n      <td>42.460777</td>\n      <td>-58.145590</td>\n      <td>-1396.090806</td>\n      <td>7.658865e+05</td>\n      <td>1.562091e+05</td>\n      <td>3.820340e+05</td>\n      <td>1.461484e+05</td>\n      <td>9.482673</td>\n      <td>2.909965e+06</td>\n      <td>8.055820</td>\n      <td>-7.076253</td>\n      <td>-1.211626</td>\n      <td>0.232059</td>\n    </tr>\n    <tr>\n      <th>median_income</th>\n      <td>-0.058231</td>\n      <td>-0.323270</td>\n      <td>-2.650003</td>\n      <td>8.209499e+02</td>\n      <td>-6.048561e+00</td>\n      <td>9.765025e+00</td>\n      <td>9.482673e+00</td>\n      <td>3.609244</td>\n      <td>1.508320e+05</td>\n      <td>0.158909</td>\n      <td>-0.209618</td>\n      <td>0.033461</td>\n      <td>0.017248</td>\n    </tr>\n    <tr>\n      <th>median_house_value</th>\n      <td>-10659.415299</td>\n      <td>-35499.998424</td>\n      <td>156577.167904</td>\n      <td>3.380005e+07</td>\n      <td>2.398701e+06</td>\n      <td>-3.119404e+06</td>\n      <td>2.909965e+06</td>\n      <td>150831.963477</td>\n      <td>1.331599e+10</td>\n      <td>14672.563323</td>\n      <td>-26009.905082</td>\n      <td>5817.888665</td>\n      <td>5519.453094</td>\n    </tr>\n    <tr>\n      <th>&lt;1H OCEAN</th>\n      <td>0.319490</td>\n      <td>-0.473578</td>\n      <td>0.302256</td>\n      <td>-3.200562e+00</td>\n      <td>3.746469e+00</td>\n      <td>4.125532e+01</td>\n      <td>8.055820e+00</td>\n      <td>0.158909</td>\n      <td>1.467256e+04</td>\n      <td>0.246805</td>\n      <td>-0.140528</td>\n      <td>-0.049163</td>\n      <td>-0.057114</td>\n    </tr>\n    <tr>\n      <th>INLAND</th>\n      <td>-0.052052</td>\n      <td>0.348712</td>\n      <td>-1.404580</td>\n      <td>2.556202e+01</td>\n      <td>-1.275870e+00</td>\n      <td>-1.037905e+01</td>\n      <td>-7.076253e+00</td>\n      <td>-0.209618</td>\n      <td>-2.600991e+04</td>\n      <td>-0.140528</td>\n      <td>0.216499</td>\n      <td>-0.035144</td>\n      <td>-0.040827</td>\n    </tr>\n    <tr>\n      <th>NEAR BAY</th>\n      <td>-0.298417</td>\n      <td>0.240521</td>\n      <td>1.012889</td>\n      <td>-1.579702e+01</td>\n      <td>-2.587317e+00</td>\n      <td>-2.159559e+01</td>\n      <td>-1.211626e+00</td>\n      <td>0.033461</td>\n      <td>5.817889e+03</td>\n      <td>-0.049163</td>\n      <td>-0.035144</td>\n      <td>0.098590</td>\n      <td>-0.014283</td>\n    </tr>\n    <tr>\n      <th>NEAR OCEAN</th>\n      <td>0.030979</td>\n      <td>-0.115655</td>\n      <td>0.089435</td>\n      <td>-6.564437e+00</td>\n      <td>1.167174e-01</td>\n      <td>-9.280673e+00</td>\n      <td>2.320585e-01</td>\n      <td>0.017248</td>\n      <td>5.519453e+03</td>\n      <td>-0.057114</td>\n      <td>-0.040827</td>\n      <td>-0.014283</td>\n      <td>0.112224</td>\n    </tr>\n  </tbody>\n</table>\n</div>"
     },
     "execution_count": 150,
     "metadata": {},
     "output_type": "execute_result"
    }
   ],
   "source": [
    "df.cov()"
   ],
   "metadata": {
    "collapsed": false,
    "pycharm": {
     "name": "#%%\n"
    }
   }
  },
  {
   "cell_type": "code",
   "execution_count": 153,
   "outputs": [
    {
     "data": {
      "text/plain": "<pandas.io.formats.style.Styler at 0x7f3b227939d0>",
      "text/html": "<style  type=\"text/css\" >\n#T_ccb26_row0_col0,#T_ccb26_row1_col1,#T_ccb26_row2_col2,#T_ccb26_row3_col3,#T_ccb26_row4_col4,#T_ccb26_row5_col5,#T_ccb26_row6_col6,#T_ccb26_row7_col7,#T_ccb26_row8_col8,#T_ccb26_row9_col9,#T_ccb26_row10_col10,#T_ccb26_row11_col11,#T_ccb26_row12_col12{\n            background-color:  #b40426;\n            color:  #f1f1f1;\n        }#T_ccb26_row0_col1,#T_ccb26_row0_col11,#T_ccb26_row1_col0,#T_ccb26_row2_col3,#T_ccb26_row2_col4,#T_ccb26_row2_col5,#T_ccb26_row2_col6,#T_ccb26_row3_col2,#T_ccb26_row9_col10,#T_ccb26_row9_col12,#T_ccb26_row10_col7,#T_ccb26_row10_col8,#T_ccb26_row10_col9{\n            background-color:  #3b4cc0;\n            color:  #f1f1f1;\n        }#T_ccb26_row0_col2,#T_ccb26_row11_col9{\n            background-color:  #7597f6;\n            color:  #000000;\n        }#T_ccb26_row0_col3,#T_ccb26_row0_col8,#T_ccb26_row9_col2{\n            background-color:  #9dbdff;\n            color:  #000000;\n        }#T_ccb26_row0_col4,#T_ccb26_row0_col12{\n            background-color:  #9bbcff;\n            color:  #000000;\n        }#T_ccb26_row0_col5{\n            background-color:  #9ebeff;\n            color:  #000000;\n        }#T_ccb26_row0_col6,#T_ccb26_row2_col12{\n            background-color:  #94b6ff;\n            color:  #000000;\n        }#T_ccb26_row0_col7,#T_ccb26_row7_col2{\n            background-color:  #7396f5;\n            color:  #000000;\n        }#T_ccb26_row0_col9{\n            background-color:  #eed0c0;\n            color:  #000000;\n        }#T_ccb26_row0_col10,#T_ccb26_row8_col2{\n            background-color:  #adc9fd;\n            color:  #000000;\n        }#T_ccb26_row1_col2{\n            background-color:  #93b5fe;\n            color:  #000000;\n        }#T_ccb26_row1_col3,#T_ccb26_row7_col4,#T_ccb26_row7_col10,#T_ccb26_row10_col4,#T_ccb26_row11_col0{\n            background-color:  #86a9fc;\n            color:  #000000;\n        }#T_ccb26_row1_col4,#T_ccb26_row4_col7{\n            background-color:  #7699f6;\n            color:  #000000;\n        }#T_ccb26_row1_col5{\n            background-color:  #6687ed;\n            color:  #000000;\n        }#T_ccb26_row1_col6,#T_ccb26_row11_col5{\n            background-color:  #7295f4;\n            color:  #000000;\n        }#T_ccb26_row1_col7{\n            background-color:  #6282ea;\n            color:  #000000;\n        }#T_ccb26_row1_col8,#T_ccb26_row11_col10,#T_ccb26_row12_col6,#T_ccb26_row12_col11{\n            background-color:  #85a8fc;\n            color:  #000000;\n        }#T_ccb26_row1_col9,#T_ccb26_row2_col7{\n            background-color:  #5977e3;\n            color:  #000000;\n        }#T_ccb26_row1_col10{\n            background-color:  #f1ccb8;\n            color:  #000000;\n        }#T_ccb26_row1_col11{\n            background-color:  #ecd3c5;\n            color:  #000000;\n        }#T_ccb26_row1_col12{\n            background-color:  #6485ec;\n            color:  #000000;\n        }#T_ccb26_row2_col0,#T_ccb26_row5_col1,#T_ccb26_row5_col9,#T_ccb26_row12_col8{\n            background-color:  #c7d7f0;\n            color:  #000000;\n        }#T_ccb26_row2_col1{\n            background-color:  #d9dce1;\n            color:  #000000;\n        }#T_ccb26_row2_col8{\n            background-color:  #c0d4f5;\n            color:  #000000;\n        }#T_ccb26_row2_col9,#T_ccb26_row7_col3{\n            background-color:  #c3d5f4;\n            color:  #000000;\n        }#T_ccb26_row2_col10,#T_ccb26_row7_col5{\n            background-color:  #84a7fc;\n            color:  #000000;\n        }#T_ccb26_row2_col11,#T_ccb26_row9_col8{\n            background-color:  #dcdddd;\n            color:  #000000;\n        }#T_ccb26_row3_col0{\n            background-color:  #dddcdc;\n            color:  #000000;\n        }#T_ccb26_row3_col1{\n            background-color:  #d3dbe7;\n            color:  #000000;\n        }#T_ccb26_row3_col4{\n            background-color:  #c83836;\n            color:  #f1f1f1;\n        }#T_ccb26_row3_col5{\n            background-color:  #dd5f4b;\n            color:  #000000;\n        }#T_ccb26_row3_col6{\n            background-color:  #cb3e38;\n            color:  #f1f1f1;\n        }#T_ccb26_row3_col7,#T_ccb26_row6_col10{\n            background-color:  #b1cbfc;\n            color:  #000000;\n        }#T_ccb26_row3_col8{\n            background-color:  #c5d6f2;\n            color:  #000000;\n        }#T_ccb26_row3_col9{\n            background-color:  #b9d0f9;\n            color:  #000000;\n        }#T_ccb26_row3_col10{\n            background-color:  #bed2f6;\n            color:  #000000;\n        }#T_ccb26_row3_col11,#T_ccb26_row4_col11{\n            background-color:  #a1c0ff;\n            color:  #000000;\n        }#T_ccb26_row3_col12,#T_ccb26_row9_col1{\n            background-color:  #8caffe;\n            color:  #000000;\n        }#T_ccb26_row4_col0{\n            background-color:  #e1dad6;\n            color:  #000000;\n        }#T_ccb26_row4_col1{\n            background-color:  #cedaeb;\n            color:  #000000;\n        }#T_ccb26_row4_col2{\n            background-color:  #4358cb;\n            color:  #f1f1f1;\n        }#T_ccb26_row4_col3{\n            background-color:  #c73635;\n            color:  #f1f1f1;\n        }#T_ccb26_row4_col5{\n            background-color:  #d85646;\n            color:  #000000;\n        }#T_ccb26_row4_col6,#T_ccb26_row6_col4{\n            background-color:  #bb1b2c;\n            color:  #f1f1f1;\n        }#T_ccb26_row4_col8,#T_ccb26_row7_col11,#T_ccb26_row8_col3,#T_ccb26_row8_col12{\n            background-color:  #b3cdfb;\n            color:  #000000;\n        }#T_ccb26_row4_col9{\n            background-color:  #bcd2f7;\n            color:  #000000;\n        }#T_ccb26_row4_col10{\n            background-color:  #b7cff9;\n            color:  #000000;\n        }#T_ccb26_row4_col12,#T_ccb26_row6_col12{\n            background-color:  #8fb1fe;\n            color:  #000000;\n        }#T_ccb26_row5_col0{\n            background-color:  #e5d8d1;\n            color:  #000000;\n        }#T_ccb26_row5_col2{\n            background-color:  #4961d2;\n            color:  #f1f1f1;\n        }#T_ccb26_row5_col3{\n            background-color:  #da5a49;\n            color:  #000000;\n        }#T_ccb26_row5_col4{\n            background-color:  #d75445;\n            color:  #000000;\n        }#T_ccb26_row5_col6,#T_ccb26_row6_col5{\n            background-color:  #d1493f;\n            color:  #f1f1f1;\n        }#T_ccb26_row5_col7,#T_ccb26_row10_col6{\n            background-color:  #7a9df8;\n            color:  #000000;\n        }#T_ccb26_row5_col8{\n            background-color:  #a2c1ff;\n            color:  #000000;\n        }#T_ccb26_row5_col10{\n            background-color:  #b5cdfa;\n            color:  #000000;\n        }#T_ccb26_row5_col11,#T_ccb26_row8_col6,#T_ccb26_row9_col5,#T_ccb26_row10_col3{\n            background-color:  #97b8ff;\n            color:  #000000;\n        }#T_ccb26_row5_col12,#T_ccb26_row7_col6,#T_ccb26_row11_col7,#T_ccb26_row12_col4{\n            background-color:  #88abfd;\n            color:  #000000;\n        }#T_ccb26_row6_col0{\n            background-color:  #dfdbd9;\n            color:  #000000;\n        }#T_ccb26_row6_col1{\n            background-color:  #cdd9ec;\n            color:  #000000;\n        }#T_ccb26_row6_col2{\n            background-color:  #465ecf;\n            color:  #f1f1f1;\n        }#T_ccb26_row6_col3{\n            background-color:  #ca3b37;\n            color:  #f1f1f1;\n        }#T_ccb26_row6_col7,#T_ccb26_row8_col5,#T_ccb26_row12_col5{\n            background-color:  #7b9ff9;\n            color:  #000000;\n        }#T_ccb26_row6_col8{\n            background-color:  #b6cefa;\n            color:  #000000;\n        }#T_ccb26_row6_col9,#T_ccb26_row8_col1{\n            background-color:  #c1d4f4;\n            color:  #000000;\n        }#T_ccb26_row6_col11{\n            background-color:  #a3c2fe;\n            color:  #000000;\n        }#T_ccb26_row7_col0{\n            background-color:  #d5dbe5;\n            color:  #000000;\n        }#T_ccb26_row7_col1{\n            background-color:  #ccd9ed;\n            color:  #000000;\n        }#T_ccb26_row7_col8{\n            background-color:  #ef886b;\n            color:  #000000;\n        }#T_ccb26_row7_col9{\n            background-color:  #d8dce2;\n            color:  #000000;\n        }#T_ccb26_row7_col12,#T_ccb26_row8_col4,#T_ccb26_row12_col2{\n            background-color:  #96b7ff;\n            color:  #000000;\n        }#T_ccb26_row8_col0{\n            background-color:  #d1dae9;\n            color:  #000000;\n        }#T_ccb26_row8_col7{\n            background-color:  #f49a7b;\n            color:  #000000;\n        }#T_ccb26_row8_col9{\n            background-color:  #e6d7cf;\n            color:  #000000;\n        }#T_ccb26_row8_col10{\n            background-color:  #516ddb;\n            color:  #000000;\n        }#T_ccb26_row8_col11{\n            background-color:  #cad8ef;\n            color:  #000000;\n        }#T_ccb26_row9_col0{\n            background-color:  #f6bea4;\n            color:  #000000;\n        }#T_ccb26_row9_col3,#T_ccb26_row9_col6{\n            background-color:  #90b2fe;\n            color:  #000000;\n        }#T_ccb26_row9_col4,#T_ccb26_row12_col3{\n            background-color:  #8db0fe;\n            color:  #000000;\n        }#T_ccb26_row9_col7{\n            background-color:  #a7c5fe;\n            color:  #000000;\n        }#T_ccb26_row9_col11{\n            background-color:  #5b7ae5;\n            color:  #000000;\n        }#T_ccb26_row10_col0,#T_ccb26_row11_col2{\n            background-color:  #cfdaea;\n            color:  #000000;\n        }#T_ccb26_row10_col1{\n            background-color:  #f7b99e;\n            color:  #000000;\n        }#T_ccb26_row10_col2{\n            background-color:  #536edd;\n            color:  #000000;\n        }#T_ccb26_row10_col5{\n            background-color:  #7da0f9;\n            color:  #000000;\n        }#T_ccb26_row10_col11{\n            background-color:  #6c8ff1;\n            color:  #000000;\n        }#T_ccb26_row10_col12{\n            background-color:  #4c66d6;\n            color:  #000000;\n        }#T_ccb26_row11_col1{\n            background-color:  #f7b89c;\n            color:  #000000;\n        }#T_ccb26_row11_col3{\n            background-color:  #8badfd;\n            color:  #000000;\n        }#T_ccb26_row11_col4,#T_ccb26_row11_col6{\n            background-color:  #82a6fb;\n            color:  #000000;\n        }#T_ccb26_row11_col8{\n            background-color:  #cbd8ee;\n            color:  #000000;\n        }#T_ccb26_row11_col12{\n            background-color:  #6b8df0;\n            color:  #000000;\n        }#T_ccb26_row12_col0{\n            background-color:  #dedcdb;\n            color:  #000000;\n        }#T_ccb26_row12_col1{\n            background-color:  #bfd3f6;\n            color:  #000000;\n        }#T_ccb26_row12_col7{\n            background-color:  #80a3fa;\n            color:  #000000;\n        }#T_ccb26_row12_col9{\n            background-color:  #6f92f3;\n            color:  #000000;\n        }#T_ccb26_row12_col10{\n            background-color:  #81a4fb;\n            color:  #000000;\n        }</style><table id=\"T_ccb26_\" ><thead>    <tr>        <th class=\"blank level0\" ></th>        <th class=\"col_heading level0 col0\" >longitude</th>        <th class=\"col_heading level0 col1\" >latitude</th>        <th class=\"col_heading level0 col2\" >housing_median_age</th>        <th class=\"col_heading level0 col3\" >total_rooms</th>        <th class=\"col_heading level0 col4\" >total_bedrooms</th>        <th class=\"col_heading level0 col5\" >population</th>        <th class=\"col_heading level0 col6\" >households</th>        <th class=\"col_heading level0 col7\" >median_income</th>        <th class=\"col_heading level0 col8\" >median_house_value</th>        <th class=\"col_heading level0 col9\" ><1H OCEAN</th>        <th class=\"col_heading level0 col10\" >INLAND</th>        <th class=\"col_heading level0 col11\" >NEAR BAY</th>        <th class=\"col_heading level0 col12\" >NEAR OCEAN</th>    </tr></thead><tbody>\n                <tr>\n                        <th id=\"T_ccb26_level0_row0\" class=\"row_heading level0 row0\" >longitude</th>\n                        <td id=\"T_ccb26_row0_col0\" class=\"data row0 col0\" >1.00</td>\n                        <td id=\"T_ccb26_row0_col1\" class=\"data row0 col1\" >-0.92</td>\n                        <td id=\"T_ccb26_row0_col2\" class=\"data row0 col2\" >-0.11</td>\n                        <td id=\"T_ccb26_row0_col3\" class=\"data row0 col3\" >0.04</td>\n                        <td id=\"T_ccb26_row0_col4\" class=\"data row0 col4\" >0.07</td>\n                        <td id=\"T_ccb26_row0_col5\" class=\"data row0 col5\" >0.10</td>\n                        <td id=\"T_ccb26_row0_col6\" class=\"data row0 col6\" >0.06</td>\n                        <td id=\"T_ccb26_row0_col7\" class=\"data row0 col7\" >-0.02</td>\n                        <td id=\"T_ccb26_row0_col8\" class=\"data row0 col8\" >-0.05</td>\n                        <td id=\"T_ccb26_row0_col9\" class=\"data row0 col9\" >0.32</td>\n                        <td id=\"T_ccb26_row0_col10\" class=\"data row0 col10\" >-0.06</td>\n                        <td id=\"T_ccb26_row0_col11\" class=\"data row0 col11\" >-0.47</td>\n                        <td id=\"T_ccb26_row0_col12\" class=\"data row0 col12\" >0.05</td>\n            </tr>\n            <tr>\n                        <th id=\"T_ccb26_level0_row1\" class=\"row_heading level0 row1\" >latitude</th>\n                        <td id=\"T_ccb26_row1_col0\" class=\"data row1 col0\" >-0.92</td>\n                        <td id=\"T_ccb26_row1_col1\" class=\"data row1 col1\" >1.00</td>\n                        <td id=\"T_ccb26_row1_col2\" class=\"data row1 col2\" >0.01</td>\n                        <td id=\"T_ccb26_row1_col3\" class=\"data row1 col3\" >-0.04</td>\n                        <td id=\"T_ccb26_row1_col4\" class=\"data row1 col4\" >-0.07</td>\n                        <td id=\"T_ccb26_row1_col5\" class=\"data row1 col5\" >-0.11</td>\n                        <td id=\"T_ccb26_row1_col6\" class=\"data row1 col6\" >-0.07</td>\n                        <td id=\"T_ccb26_row1_col7\" class=\"data row1 col7\" >-0.08</td>\n                        <td id=\"T_ccb26_row1_col8\" class=\"data row1 col8\" >-0.14</td>\n                        <td id=\"T_ccb26_row1_col9\" class=\"data row1 col9\" >-0.45</td>\n                        <td id=\"T_ccb26_row1_col10\" class=\"data row1 col10\" >0.35</td>\n                        <td id=\"T_ccb26_row1_col11\" class=\"data row1 col11\" >0.36</td>\n                        <td id=\"T_ccb26_row1_col12\" class=\"data row1 col12\" >-0.16</td>\n            </tr>\n            <tr>\n                        <th id=\"T_ccb26_level0_row2\" class=\"row_heading level0 row2\" >housing_median_age</th>\n                        <td id=\"T_ccb26_row2_col0\" class=\"data row2 col0\" >-0.11</td>\n                        <td id=\"T_ccb26_row2_col1\" class=\"data row2 col1\" >0.01</td>\n                        <td id=\"T_ccb26_row2_col2\" class=\"data row2 col2\" >1.00</td>\n                        <td id=\"T_ccb26_row2_col3\" class=\"data row2 col3\" >-0.35</td>\n                        <td id=\"T_ccb26_row2_col4\" class=\"data row2 col4\" >-0.31</td>\n                        <td id=\"T_ccb26_row2_col5\" class=\"data row2 col5\" >-0.29</td>\n                        <td id=\"T_ccb26_row2_col6\" class=\"data row2 col6\" >-0.29</td>\n                        <td id=\"T_ccb26_row2_col7\" class=\"data row2 col7\" >-0.11</td>\n                        <td id=\"T_ccb26_row2_col8\" class=\"data row2 col8\" >0.11</td>\n                        <td id=\"T_ccb26_row2_col9\" class=\"data row2 col9\" >0.05</td>\n                        <td id=\"T_ccb26_row2_col10\" class=\"data row2 col10\" >-0.24</td>\n                        <td id=\"T_ccb26_row2_col11\" class=\"data row2 col11\" >0.26</td>\n                        <td id=\"T_ccb26_row2_col12\" class=\"data row2 col12\" >0.02</td>\n            </tr>\n            <tr>\n                        <th id=\"T_ccb26_level0_row3\" class=\"row_heading level0 row3\" >total_rooms</th>\n                        <td id=\"T_ccb26_row3_col0\" class=\"data row3 col0\" >0.04</td>\n                        <td id=\"T_ccb26_row3_col1\" class=\"data row3 col1\" >-0.04</td>\n                        <td id=\"T_ccb26_row3_col2\" class=\"data row3 col2\" >-0.35</td>\n                        <td id=\"T_ccb26_row3_col3\" class=\"data row3 col3\" >1.00</td>\n                        <td id=\"T_ccb26_row3_col4\" class=\"data row3 col4\" >0.93</td>\n                        <td id=\"T_ccb26_row3_col5\" class=\"data row3 col5\" >0.84</td>\n                        <td id=\"T_ccb26_row3_col6\" class=\"data row3 col6\" >0.92</td>\n                        <td id=\"T_ccb26_row3_col7\" class=\"data row3 col7\" >0.20</td>\n                        <td id=\"T_ccb26_row3_col8\" class=\"data row3 col8\" >0.13</td>\n                        <td id=\"T_ccb26_row3_col9\" class=\"data row3 col9\" >-0.00</td>\n                        <td id=\"T_ccb26_row3_col10\" class=\"data row3 col10\" >0.03</td>\n                        <td id=\"T_ccb26_row3_col11\" class=\"data row3 col11\" >-0.02</td>\n                        <td id=\"T_ccb26_row3_col12\" class=\"data row3 col12\" >-0.01</td>\n            </tr>\n            <tr>\n                        <th id=\"T_ccb26_level0_row4\" class=\"row_heading level0 row4\" >total_bedrooms</th>\n                        <td id=\"T_ccb26_row4_col0\" class=\"data row4 col0\" >0.07</td>\n                        <td id=\"T_ccb26_row4_col1\" class=\"data row4 col1\" >-0.07</td>\n                        <td id=\"T_ccb26_row4_col2\" class=\"data row4 col2\" >-0.31</td>\n                        <td id=\"T_ccb26_row4_col3\" class=\"data row4 col3\" >0.93</td>\n                        <td id=\"T_ccb26_row4_col4\" class=\"data row4 col4\" >1.00</td>\n                        <td id=\"T_ccb26_row4_col5\" class=\"data row4 col5\" >0.86</td>\n                        <td id=\"T_ccb26_row4_col6\" class=\"data row4 col6\" >0.97</td>\n                        <td id=\"T_ccb26_row4_col7\" class=\"data row4 col7\" >-0.01</td>\n                        <td id=\"T_ccb26_row4_col8\" class=\"data row4 col8\" >0.05</td>\n                        <td id=\"T_ccb26_row4_col9\" class=\"data row4 col9\" >0.02</td>\n                        <td id=\"T_ccb26_row4_col10\" class=\"data row4 col10\" >-0.01</td>\n                        <td id=\"T_ccb26_row4_col11\" class=\"data row4 col11\" >-0.02</td>\n                        <td id=\"T_ccb26_row4_col12\" class=\"data row4 col12\" >0.00</td>\n            </tr>\n            <tr>\n                        <th id=\"T_ccb26_level0_row5\" class=\"row_heading level0 row5\" >population</th>\n                        <td id=\"T_ccb26_row5_col0\" class=\"data row5 col0\" >0.10</td>\n                        <td id=\"T_ccb26_row5_col1\" class=\"data row5 col1\" >-0.11</td>\n                        <td id=\"T_ccb26_row5_col2\" class=\"data row5 col2\" >-0.29</td>\n                        <td id=\"T_ccb26_row5_col3\" class=\"data row5 col3\" >0.84</td>\n                        <td id=\"T_ccb26_row5_col4\" class=\"data row5 col4\" >0.86</td>\n                        <td id=\"T_ccb26_row5_col5\" class=\"data row5 col5\" >1.00</td>\n                        <td id=\"T_ccb26_row5_col6\" class=\"data row5 col6\" >0.89</td>\n                        <td id=\"T_ccb26_row5_col7\" class=\"data row5 col7\" >0.00</td>\n                        <td id=\"T_ccb26_row5_col8\" class=\"data row5 col8\" >-0.02</td>\n                        <td id=\"T_ccb26_row5_col9\" class=\"data row5 col9\" >0.07</td>\n                        <td id=\"T_ccb26_row5_col10\" class=\"data row5 col10\" >-0.02</td>\n                        <td id=\"T_ccb26_row5_col11\" class=\"data row5 col11\" >-0.06</td>\n                        <td id=\"T_ccb26_row5_col12\" class=\"data row5 col12\" >-0.02</td>\n            </tr>\n            <tr>\n                        <th id=\"T_ccb26_level0_row6\" class=\"row_heading level0 row6\" >households</th>\n                        <td id=\"T_ccb26_row6_col0\" class=\"data row6 col0\" >0.06</td>\n                        <td id=\"T_ccb26_row6_col1\" class=\"data row6 col1\" >-0.07</td>\n                        <td id=\"T_ccb26_row6_col2\" class=\"data row6 col2\" >-0.29</td>\n                        <td id=\"T_ccb26_row6_col3\" class=\"data row6 col3\" >0.92</td>\n                        <td id=\"T_ccb26_row6_col4\" class=\"data row6 col4\" >0.97</td>\n                        <td id=\"T_ccb26_row6_col5\" class=\"data row6 col5\" >0.89</td>\n                        <td id=\"T_ccb26_row6_col6\" class=\"data row6 col6\" >1.00</td>\n                        <td id=\"T_ccb26_row6_col7\" class=\"data row6 col7\" >0.01</td>\n                        <td id=\"T_ccb26_row6_col8\" class=\"data row6 col8\" >0.07</td>\n                        <td id=\"T_ccb26_row6_col9\" class=\"data row6 col9\" >0.04</td>\n                        <td id=\"T_ccb26_row6_col10\" class=\"data row6 col10\" >-0.04</td>\n                        <td id=\"T_ccb26_row6_col11\" class=\"data row6 col11\" >-0.01</td>\n                        <td id=\"T_ccb26_row6_col12\" class=\"data row6 col12\" >0.00</td>\n            </tr>\n            <tr>\n                        <th id=\"T_ccb26_level0_row7\" class=\"row_heading level0 row7\" >median_income</th>\n                        <td id=\"T_ccb26_row7_col0\" class=\"data row7 col0\" >-0.02</td>\n                        <td id=\"T_ccb26_row7_col1\" class=\"data row7 col1\" >-0.08</td>\n                        <td id=\"T_ccb26_row7_col2\" class=\"data row7 col2\" >-0.11</td>\n                        <td id=\"T_ccb26_row7_col3\" class=\"data row7 col3\" >0.20</td>\n                        <td id=\"T_ccb26_row7_col4\" class=\"data row7 col4\" >-0.01</td>\n                        <td id=\"T_ccb26_row7_col5\" class=\"data row7 col5\" >0.00</td>\n                        <td id=\"T_ccb26_row7_col6\" class=\"data row7 col6\" >0.01</td>\n                        <td id=\"T_ccb26_row7_col7\" class=\"data row7 col7\" >1.00</td>\n                        <td id=\"T_ccb26_row7_col8\" class=\"data row7 col8\" >0.69</td>\n                        <td id=\"T_ccb26_row7_col9\" class=\"data row7 col9\" >0.17</td>\n                        <td id=\"T_ccb26_row7_col10\" class=\"data row7 col10\" >-0.24</td>\n                        <td id=\"T_ccb26_row7_col11\" class=\"data row7 col11\" >0.06</td>\n                        <td id=\"T_ccb26_row7_col12\" class=\"data row7 col12\" >0.03</td>\n            </tr>\n            <tr>\n                        <th id=\"T_ccb26_level0_row8\" class=\"row_heading level0 row8\" >median_house_value</th>\n                        <td id=\"T_ccb26_row8_col0\" class=\"data row8 col0\" >-0.05</td>\n                        <td id=\"T_ccb26_row8_col1\" class=\"data row8 col1\" >-0.14</td>\n                        <td id=\"T_ccb26_row8_col2\" class=\"data row8 col2\" >0.11</td>\n                        <td id=\"T_ccb26_row8_col3\" class=\"data row8 col3\" >0.13</td>\n                        <td id=\"T_ccb26_row8_col4\" class=\"data row8 col4\" >0.05</td>\n                        <td id=\"T_ccb26_row8_col5\" class=\"data row8 col5\" >-0.02</td>\n                        <td id=\"T_ccb26_row8_col6\" class=\"data row8 col6\" >0.07</td>\n                        <td id=\"T_ccb26_row8_col7\" class=\"data row8 col7\" >0.69</td>\n                        <td id=\"T_ccb26_row8_col8\" class=\"data row8 col8\" >1.00</td>\n                        <td id=\"T_ccb26_row8_col9\" class=\"data row8 col9\" >0.26</td>\n                        <td id=\"T_ccb26_row8_col10\" class=\"data row8 col10\" >-0.48</td>\n                        <td id=\"T_ccb26_row8_col11\" class=\"data row8 col11\" >0.16</td>\n                        <td id=\"T_ccb26_row8_col12\" class=\"data row8 col12\" >0.14</td>\n            </tr>\n            <tr>\n                        <th id=\"T_ccb26_level0_row9\" class=\"row_heading level0 row9\" ><1H OCEAN</th>\n                        <td id=\"T_ccb26_row9_col0\" class=\"data row9 col0\" >0.32</td>\n                        <td id=\"T_ccb26_row9_col1\" class=\"data row9 col1\" >-0.45</td>\n                        <td id=\"T_ccb26_row9_col2\" class=\"data row9 col2\" >0.05</td>\n                        <td id=\"T_ccb26_row9_col3\" class=\"data row9 col3\" >-0.00</td>\n                        <td id=\"T_ccb26_row9_col4\" class=\"data row9 col4\" >0.02</td>\n                        <td id=\"T_ccb26_row9_col5\" class=\"data row9 col5\" >0.07</td>\n                        <td id=\"T_ccb26_row9_col6\" class=\"data row9 col6\" >0.04</td>\n                        <td id=\"T_ccb26_row9_col7\" class=\"data row9 col7\" >0.17</td>\n                        <td id=\"T_ccb26_row9_col8\" class=\"data row9 col8\" >0.26</td>\n                        <td id=\"T_ccb26_row9_col9\" class=\"data row9 col9\" >1.00</td>\n                        <td id=\"T_ccb26_row9_col10\" class=\"data row9 col10\" >-0.61</td>\n                        <td id=\"T_ccb26_row9_col11\" class=\"data row9 col11\" >-0.32</td>\n                        <td id=\"T_ccb26_row9_col12\" class=\"data row9 col12\" >-0.34</td>\n            </tr>\n            <tr>\n                        <th id=\"T_ccb26_level0_row10\" class=\"row_heading level0 row10\" >INLAND</th>\n                        <td id=\"T_ccb26_row10_col0\" class=\"data row10 col0\" >-0.06</td>\n                        <td id=\"T_ccb26_row10_col1\" class=\"data row10 col1\" >0.35</td>\n                        <td id=\"T_ccb26_row10_col2\" class=\"data row10 col2\" >-0.24</td>\n                        <td id=\"T_ccb26_row10_col3\" class=\"data row10 col3\" >0.03</td>\n                        <td id=\"T_ccb26_row10_col4\" class=\"data row10 col4\" >-0.01</td>\n                        <td id=\"T_ccb26_row10_col5\" class=\"data row10 col5\" >-0.02</td>\n                        <td id=\"T_ccb26_row10_col6\" class=\"data row10 col6\" >-0.04</td>\n                        <td id=\"T_ccb26_row10_col7\" class=\"data row10 col7\" >-0.24</td>\n                        <td id=\"T_ccb26_row10_col8\" class=\"data row10 col8\" >-0.48</td>\n                        <td id=\"T_ccb26_row10_col9\" class=\"data row10 col9\" >-0.61</td>\n                        <td id=\"T_ccb26_row10_col10\" class=\"data row10 col10\" >1.00</td>\n                        <td id=\"T_ccb26_row10_col11\" class=\"data row10 col11\" >-0.24</td>\n                        <td id=\"T_ccb26_row10_col12\" class=\"data row10 col12\" >-0.26</td>\n            </tr>\n            <tr>\n                        <th id=\"T_ccb26_level0_row11\" class=\"row_heading level0 row11\" >NEAR BAY</th>\n                        <td id=\"T_ccb26_row11_col0\" class=\"data row11 col0\" >-0.47</td>\n                        <td id=\"T_ccb26_row11_col1\" class=\"data row11 col1\" >0.36</td>\n                        <td id=\"T_ccb26_row11_col2\" class=\"data row11 col2\" >0.26</td>\n                        <td id=\"T_ccb26_row11_col3\" class=\"data row11 col3\" >-0.02</td>\n                        <td id=\"T_ccb26_row11_col4\" class=\"data row11 col4\" >-0.02</td>\n                        <td id=\"T_ccb26_row11_col5\" class=\"data row11 col5\" >-0.06</td>\n                        <td id=\"T_ccb26_row11_col6\" class=\"data row11 col6\" >-0.01</td>\n                        <td id=\"T_ccb26_row11_col7\" class=\"data row11 col7\" >0.06</td>\n                        <td id=\"T_ccb26_row11_col8\" class=\"data row11 col8\" >0.16</td>\n                        <td id=\"T_ccb26_row11_col9\" class=\"data row11 col9\" >-0.32</td>\n                        <td id=\"T_ccb26_row11_col10\" class=\"data row11 col10\" >-0.24</td>\n                        <td id=\"T_ccb26_row11_col11\" class=\"data row11 col11\" >1.00</td>\n                        <td id=\"T_ccb26_row11_col12\" class=\"data row11 col12\" >-0.14</td>\n            </tr>\n            <tr>\n                        <th id=\"T_ccb26_level0_row12\" class=\"row_heading level0 row12\" >NEAR OCEAN</th>\n                        <td id=\"T_ccb26_row12_col0\" class=\"data row12 col0\" >0.05</td>\n                        <td id=\"T_ccb26_row12_col1\" class=\"data row12 col1\" >-0.16</td>\n                        <td id=\"T_ccb26_row12_col2\" class=\"data row12 col2\" >0.02</td>\n                        <td id=\"T_ccb26_row12_col3\" class=\"data row12 col3\" >-0.01</td>\n                        <td id=\"T_ccb26_row12_col4\" class=\"data row12 col4\" >0.00</td>\n                        <td id=\"T_ccb26_row12_col5\" class=\"data row12 col5\" >-0.02</td>\n                        <td id=\"T_ccb26_row12_col6\" class=\"data row12 col6\" >0.00</td>\n                        <td id=\"T_ccb26_row12_col7\" class=\"data row12 col7\" >0.03</td>\n                        <td id=\"T_ccb26_row12_col8\" class=\"data row12 col8\" >0.14</td>\n                        <td id=\"T_ccb26_row12_col9\" class=\"data row12 col9\" >-0.34</td>\n                        <td id=\"T_ccb26_row12_col10\" class=\"data row12 col10\" >-0.26</td>\n                        <td id=\"T_ccb26_row12_col11\" class=\"data row12 col11\" >-0.14</td>\n                        <td id=\"T_ccb26_row12_col12\" class=\"data row12 col12\" >1.00</td>\n            </tr>\n    </tbody></table>"
     },
     "execution_count": 153,
     "metadata": {},
     "output_type": "execute_result"
    }
   ],
   "source": [
    "df.corr().style.background_gradient(cmap='coolwarm').set_precision(2)"
   ],
   "metadata": {
    "collapsed": false,
    "pycharm": {
     "name": "#%%\n"
    }
   }
  },
  {
   "cell_type": "code",
   "execution_count": 154,
   "outputs": [
    {
     "data": {
      "text/plain": "INLAND               -0.484423\nlatitude             -0.144027\nlongitude            -0.046104\npopulation           -0.024150\ntotal_bedrooms        0.049568\nhouseholds            0.065964\nhousing_median_age    0.109571\ntotal_rooms           0.134283\nNEAR OCEAN            0.142780\nNEAR BAY              0.160569\n<1H OCEAN             0.255942\nmedian_income         0.688016\nmedian_house_value    1.000000\nName: median_house_value, dtype: float64"
     },
     "execution_count": 154,
     "metadata": {},
     "output_type": "execute_result"
    }
   ],
   "source": [
    "\n",
    "df.corr()['median_house_value'].sort_values()"
   ],
   "metadata": {
    "collapsed": false,
    "pycharm": {
     "name": "#%%\n"
    }
   }
  }
 ],
 "metadata": {
  "kernelspec": {
   "display_name": "Python 3",
   "language": "python",
   "name": "python3"
  },
  "language_info": {
   "codemirror_mode": {
    "name": "ipython",
    "version": 2
   },
   "file_extension": ".py",
   "mimetype": "text/x-python",
   "name": "python",
   "nbconvert_exporter": "python",
   "pygments_lexer": "ipython2",
   "version": "2.7.6"
  }
 },
 "nbformat": 4,
 "nbformat_minor": 0
}