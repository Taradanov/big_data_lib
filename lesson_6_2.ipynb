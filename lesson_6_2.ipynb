{
 "cells": [
  {
   "cell_type": "code",
   "execution_count": 113,
   "metadata": {
    "collapsed": true
   },
   "outputs": [],
   "source": [
    "import pandas as pd\n",
    "import numpy as np\n",
    "from sklearn.model_selection import train_test_split\n",
    "from sklearn.linear_model import LogisticRegression"
   ]
  },
  {
   "cell_type": "code",
   "execution_count": 114,
   "outputs": [],
   "source": [
    "data = pd.read_csv('https://storage.googleapis.com/kagglesdsdata/competitions/3136/26502/train.csv?GoogleAccessId=web-data@kaggle-161607.iam.gserviceaccount.com&Expires=1632886018&Signature=rnYENhSIyJJLFqVB8c8jRTR9MBXA%2FloUKDjBC%2Fofh%2Bx%2BGmt74x2WLu%2Bs5VSSoUjnbdVQ68sbRYvs%2BphUrnx7NmN%2BjLyFV6B5E%2BuG5v%2BxDDk6bGl1xgXORyYR5uRjozidySoso82SjOo8V6I%2B3CziaG1pgEPOwJqKa%2F3l1PJONNZkwkreJQcb64BgUysGFojK3sWP7JLcmidSH2QRh%2Bxt7mGanAhTb2zdkfK9FGhsf5scOPQP1JYlAyuU%2F4amq2rWJpfxBDjc%2BWHpY1MPIKNHZCWlNS0c3XsgQdayDqj07jCWzrN2dmkgG2GMe3XgvWVMoudkYRTDrmmx86vhBmmMHA%3D%3D&response-content-disposition=attachment%3B+filename%3Dtrain.csv')"
   ],
   "metadata": {
    "collapsed": false,
    "pycharm": {
     "name": "#%%\n"
    }
   }
  },
  {
   "cell_type": "code",
   "execution_count": 115,
   "outputs": [
    {
     "data": {
      "text/plain": "   PassengerId  Survived  Pclass  \\\n0            1         0       3   \n1            2         1       1   \n2            3         1       3   \n3            4         1       1   \n4            5         0       3   \n5            6         0       3   \n6            7         0       1   \n7            8         0       3   \n8            9         1       3   \n9           10         1       2   \n\n                                                Name     Sex   Age  SibSp  \\\n0                            Braund, Mr. Owen Harris    male  22.0      1   \n1  Cumings, Mrs. John Bradley (Florence Briggs Th...  female  38.0      1   \n2                             Heikkinen, Miss. Laina  female  26.0      0   \n3       Futrelle, Mrs. Jacques Heath (Lily May Peel)  female  35.0      1   \n4                           Allen, Mr. William Henry    male  35.0      0   \n5                                   Moran, Mr. James    male   NaN      0   \n6                            McCarthy, Mr. Timothy J    male  54.0      0   \n7                     Palsson, Master. Gosta Leonard    male   2.0      3   \n8  Johnson, Mrs. Oscar W (Elisabeth Vilhelmina Berg)  female  27.0      0   \n9                Nasser, Mrs. Nicholas (Adele Achem)  female  14.0      1   \n\n   Parch            Ticket     Fare Cabin Embarked  \n0      0         A/5 21171   7.2500   NaN        S  \n1      0          PC 17599  71.2833   C85        C  \n2      0  STON/O2. 3101282   7.9250   NaN        S  \n3      0            113803  53.1000  C123        S  \n4      0            373450   8.0500   NaN        S  \n5      0            330877   8.4583   NaN        Q  \n6      0             17463  51.8625   E46        S  \n7      1            349909  21.0750   NaN        S  \n8      2            347742  11.1333   NaN        S  \n9      0            237736  30.0708   NaN        C  ",
      "text/html": "<div>\n<style scoped>\n    .dataframe tbody tr th:only-of-type {\n        vertical-align: middle;\n    }\n\n    .dataframe tbody tr th {\n        vertical-align: top;\n    }\n\n    .dataframe thead th {\n        text-align: right;\n    }\n</style>\n<table border=\"1\" class=\"dataframe\">\n  <thead>\n    <tr style=\"text-align: right;\">\n      <th></th>\n      <th>PassengerId</th>\n      <th>Survived</th>\n      <th>Pclass</th>\n      <th>Name</th>\n      <th>Sex</th>\n      <th>Age</th>\n      <th>SibSp</th>\n      <th>Parch</th>\n      <th>Ticket</th>\n      <th>Fare</th>\n      <th>Cabin</th>\n      <th>Embarked</th>\n    </tr>\n  </thead>\n  <tbody>\n    <tr>\n      <th>0</th>\n      <td>1</td>\n      <td>0</td>\n      <td>3</td>\n      <td>Braund, Mr. Owen Harris</td>\n      <td>male</td>\n      <td>22.0</td>\n      <td>1</td>\n      <td>0</td>\n      <td>A/5 21171</td>\n      <td>7.2500</td>\n      <td>NaN</td>\n      <td>S</td>\n    </tr>\n    <tr>\n      <th>1</th>\n      <td>2</td>\n      <td>1</td>\n      <td>1</td>\n      <td>Cumings, Mrs. John Bradley (Florence Briggs Th...</td>\n      <td>female</td>\n      <td>38.0</td>\n      <td>1</td>\n      <td>0</td>\n      <td>PC 17599</td>\n      <td>71.2833</td>\n      <td>C85</td>\n      <td>C</td>\n    </tr>\n    <tr>\n      <th>2</th>\n      <td>3</td>\n      <td>1</td>\n      <td>3</td>\n      <td>Heikkinen, Miss. Laina</td>\n      <td>female</td>\n      <td>26.0</td>\n      <td>0</td>\n      <td>0</td>\n      <td>STON/O2. 3101282</td>\n      <td>7.9250</td>\n      <td>NaN</td>\n      <td>S</td>\n    </tr>\n    <tr>\n      <th>3</th>\n      <td>4</td>\n      <td>1</td>\n      <td>1</td>\n      <td>Futrelle, Mrs. Jacques Heath (Lily May Peel)</td>\n      <td>female</td>\n      <td>35.0</td>\n      <td>1</td>\n      <td>0</td>\n      <td>113803</td>\n      <td>53.1000</td>\n      <td>C123</td>\n      <td>S</td>\n    </tr>\n    <tr>\n      <th>4</th>\n      <td>5</td>\n      <td>0</td>\n      <td>3</td>\n      <td>Allen, Mr. William Henry</td>\n      <td>male</td>\n      <td>35.0</td>\n      <td>0</td>\n      <td>0</td>\n      <td>373450</td>\n      <td>8.0500</td>\n      <td>NaN</td>\n      <td>S</td>\n    </tr>\n    <tr>\n      <th>5</th>\n      <td>6</td>\n      <td>0</td>\n      <td>3</td>\n      <td>Moran, Mr. James</td>\n      <td>male</td>\n      <td>NaN</td>\n      <td>0</td>\n      <td>0</td>\n      <td>330877</td>\n      <td>8.4583</td>\n      <td>NaN</td>\n      <td>Q</td>\n    </tr>\n    <tr>\n      <th>6</th>\n      <td>7</td>\n      <td>0</td>\n      <td>1</td>\n      <td>McCarthy, Mr. Timothy J</td>\n      <td>male</td>\n      <td>54.0</td>\n      <td>0</td>\n      <td>0</td>\n      <td>17463</td>\n      <td>51.8625</td>\n      <td>E46</td>\n      <td>S</td>\n    </tr>\n    <tr>\n      <th>7</th>\n      <td>8</td>\n      <td>0</td>\n      <td>3</td>\n      <td>Palsson, Master. Gosta Leonard</td>\n      <td>male</td>\n      <td>2.0</td>\n      <td>3</td>\n      <td>1</td>\n      <td>349909</td>\n      <td>21.0750</td>\n      <td>NaN</td>\n      <td>S</td>\n    </tr>\n    <tr>\n      <th>8</th>\n      <td>9</td>\n      <td>1</td>\n      <td>3</td>\n      <td>Johnson, Mrs. Oscar W (Elisabeth Vilhelmina Berg)</td>\n      <td>female</td>\n      <td>27.0</td>\n      <td>0</td>\n      <td>2</td>\n      <td>347742</td>\n      <td>11.1333</td>\n      <td>NaN</td>\n      <td>S</td>\n    </tr>\n    <tr>\n      <th>9</th>\n      <td>10</td>\n      <td>1</td>\n      <td>2</td>\n      <td>Nasser, Mrs. Nicholas (Adele Achem)</td>\n      <td>female</td>\n      <td>14.0</td>\n      <td>1</td>\n      <td>0</td>\n      <td>237736</td>\n      <td>30.0708</td>\n      <td>NaN</td>\n      <td>C</td>\n    </tr>\n  </tbody>\n</table>\n</div>"
     },
     "execution_count": 115,
     "metadata": {},
     "output_type": "execute_result"
    }
   ],
   "source": [
    "data.set_index('PassengerId')\n",
    "data.head(10)"
   ],
   "metadata": {
    "collapsed": false,
    "pycharm": {
     "name": "#%%\n"
    }
   }
  },
  {
   "cell_type": "code",
   "execution_count": 116,
   "outputs": [
    {
     "data": {
      "text/plain": "Index(['PassengerId', 'Survived', 'Pclass', 'Name', 'Sex', 'Age', 'SibSp',\n       'Parch', 'Ticket', 'Fare', 'Cabin', 'Embarked'],\n      dtype='object')"
     },
     "execution_count": 116,
     "metadata": {},
     "output_type": "execute_result"
    }
   ],
   "source": [
    "data.columns"
   ],
   "metadata": {
    "collapsed": false,
    "pycharm": {
     "name": "#%%\n"
    }
   }
  },
  {
   "cell_type": "code",
   "execution_count": 117,
   "outputs": [],
   "source": [
    "target = 'Survived'"
   ],
   "metadata": {
    "collapsed": false,
    "pycharm": {
     "name": "#%%\n"
    }
   }
  },
  {
   "cell_type": "code",
   "execution_count": 118,
   "outputs": [],
   "source": [
    "y = data[target]\n",
    "x = data.drop(target, axis=1)"
   ],
   "metadata": {
    "collapsed": false,
    "pycharm": {
     "name": "#%%\n"
    }
   }
  },
  {
   "cell_type": "code",
   "execution_count": 119,
   "outputs": [
    {
     "name": "stdout",
     "output_type": "stream",
     "text": [
      "<class 'pandas.core.frame.DataFrame'>\n",
      "RangeIndex: 891 entries, 0 to 890\n",
      "Data columns (total 11 columns):\n",
      " #   Column       Non-Null Count  Dtype  \n",
      "---  ------       --------------  -----  \n",
      " 0   PassengerId  891 non-null    int64  \n",
      " 1   Pclass       891 non-null    int64  \n",
      " 2   Name         891 non-null    object \n",
      " 3   Sex          891 non-null    object \n",
      " 4   Age          714 non-null    float64\n",
      " 5   SibSp        891 non-null    int64  \n",
      " 6   Parch        891 non-null    int64  \n",
      " 7   Ticket       891 non-null    object \n",
      " 8   Fare         891 non-null    float64\n",
      " 9   Cabin        204 non-null    object \n",
      " 10  Embarked     889 non-null    object \n",
      "dtypes: float64(2), int64(4), object(5)\n",
      "memory usage: 76.7+ KB\n"
     ]
    }
   ],
   "source": [
    "x.info()"
   ],
   "metadata": {
    "collapsed": false,
    "pycharm": {
     "name": "#%%\n"
    }
   }
  },
  {
   "cell_type": "code",
   "execution_count": 120,
   "outputs": [],
   "source": [
    "x = x.drop(['Cabin', 'Name', 'Ticket'], axis=1)"
   ],
   "metadata": {
    "collapsed": false,
    "pycharm": {
     "name": "#%%\n"
    }
   }
  },
  {
   "cell_type": "code",
   "execution_count": 121,
   "outputs": [
    {
     "data": {
      "text/plain": "29.69911764705882"
     },
     "execution_count": 121,
     "metadata": {},
     "output_type": "execute_result"
    }
   ],
   "source": [
    "mean_age = x['Age'].mean()\n",
    "mean_age"
   ],
   "metadata": {
    "collapsed": false,
    "pycharm": {
     "name": "#%%\n"
    }
   }
  },
  {
   "cell_type": "code",
   "execution_count": 122,
   "outputs": [
    {
     "data": {
      "text/plain": "array([22.        , 38.        , 26.        , 35.        , 29.69911765,\n       54.        ,  2.        , 27.        , 14.        ,  4.        ,\n       58.        , 20.        , 39.        , 55.        , 31.        ,\n       34.        , 15.        , 28.        ,  8.        , 19.        ,\n       40.        , 66.        , 42.        , 21.        , 18.        ,\n        3.        ,  7.        , 49.        , 29.        , 65.        ,\n       28.5       ,  5.        , 11.        , 45.        , 17.        ,\n       32.        , 16.        , 25.        ,  0.83      , 30.        ,\n       33.        , 23.        , 24.        , 46.        , 59.        ,\n       71.        , 37.        , 47.        , 14.5       , 70.5       ,\n       32.5       , 12.        ,  9.        , 36.5       , 51.        ,\n       55.5       , 40.5       , 44.        ,  1.        , 61.        ,\n       56.        , 50.        , 36.        , 45.5       , 20.5       ,\n       62.        , 41.        , 52.        , 63.        , 23.5       ,\n        0.92      , 43.        , 60.        , 10.        , 64.        ,\n       13.        , 48.        ,  0.75      , 53.        , 57.        ,\n       80.        , 70.        , 24.5       ,  6.        ,  0.67      ,\n       30.5       ,  0.42      , 34.5       , 74.        ])"
     },
     "execution_count": 122,
     "metadata": {},
     "output_type": "execute_result"
    }
   ],
   "source": [
    "x['Age'] = x['Age'].fillna(mean_age)\n",
    "x['Age'].unique()"
   ],
   "metadata": {
    "collapsed": false,
    "pycharm": {
     "name": "#%%\n"
    }
   }
  },
  {
   "cell_type": "code",
   "execution_count": 123,
   "outputs": [
    {
     "data": {
      "text/plain": "S    646\nC    168\nQ     77\nName: Embarked, dtype: int64"
     },
     "execution_count": 123,
     "metadata": {},
     "output_type": "execute_result"
    }
   ],
   "source": [
    "embarket_mode = x['Embarked'].mode()[0]\n",
    "x['Embarked'].fillna(embarket_mode, inplace=True)\n",
    "x['Embarked'].value_counts()"
   ],
   "metadata": {
    "collapsed": false,
    "pycharm": {
     "name": "#%%\n"
    }
   }
  },
  {
   "cell_type": "code",
   "execution_count": 124,
   "outputs": [
    {
     "name": "stdout",
     "output_type": "stream",
     "text": [
      "<class 'pandas.core.frame.DataFrame'>\n",
      "RangeIndex: 891 entries, 0 to 890\n",
      "Data columns (total 8 columns):\n",
      " #   Column       Non-Null Count  Dtype  \n",
      "---  ------       --------------  -----  \n",
      " 0   PassengerId  891 non-null    int64  \n",
      " 1   Pclass       891 non-null    int64  \n",
      " 2   Sex          891 non-null    object \n",
      " 3   Age          891 non-null    float64\n",
      " 4   SibSp        891 non-null    int64  \n",
      " 5   Parch        891 non-null    int64  \n",
      " 6   Fare         891 non-null    float64\n",
      " 7   Embarked     891 non-null    object \n",
      "dtypes: float64(2), int64(4), object(2)\n",
      "memory usage: 55.8+ KB\n"
     ]
    }
   ],
   "source": [
    "x.info()"
   ],
   "metadata": {
    "collapsed": false,
    "pycharm": {
     "name": "#%%\n"
    }
   }
  },
  {
   "cell_type": "code",
   "execution_count": 125,
   "outputs": [],
   "source": [
    "x['Sex'] = (x['Sex'] == 'female').astype(int)"
   ],
   "metadata": {
    "collapsed": false,
    "pycharm": {
     "name": "#%%\n"
    }
   }
  },
  {
   "cell_type": "code",
   "execution_count": 126,
   "outputs": [
    {
     "data": {
      "text/plain": "0    577\n1    314\nName: Sex, dtype: int64"
     },
     "execution_count": 126,
     "metadata": {},
     "output_type": "execute_result"
    }
   ],
   "source": [
    "x['Sex'].value_counts()"
   ],
   "metadata": {
    "collapsed": false,
    "pycharm": {
     "name": "#%%\n"
    }
   }
  },
  {
   "cell_type": "code",
   "execution_count": 127,
   "outputs": [],
   "source": [
    "x = pd.get_dummies(x)"
   ],
   "metadata": {
    "collapsed": false,
    "pycharm": {
     "name": "#%%\n"
    }
   }
  },
  {
   "cell_type": "code",
   "execution_count": 128,
   "outputs": [
    {
     "name": "stdout",
     "output_type": "stream",
     "text": [
      "<class 'pandas.core.frame.DataFrame'>\n",
      "RangeIndex: 891 entries, 0 to 890\n",
      "Data columns (total 10 columns):\n",
      " #   Column       Non-Null Count  Dtype  \n",
      "---  ------       --------------  -----  \n",
      " 0   PassengerId  891 non-null    int64  \n",
      " 1   Pclass       891 non-null    int64  \n",
      " 2   Sex          891 non-null    int32  \n",
      " 3   Age          891 non-null    float64\n",
      " 4   SibSp        891 non-null    int64  \n",
      " 5   Parch        891 non-null    int64  \n",
      " 6   Fare         891 non-null    float64\n",
      " 7   Embarked_C   891 non-null    uint8  \n",
      " 8   Embarked_Q   891 non-null    uint8  \n",
      " 9   Embarked_S   891 non-null    uint8  \n",
      "dtypes: float64(2), int32(1), int64(4), uint8(3)\n",
      "memory usage: 48.0 KB\n"
     ]
    }
   ],
   "source": [
    "x.info()"
   ],
   "metadata": {
    "collapsed": false,
    "pycharm": {
     "name": "#%%\n"
    }
   }
  },
  {
   "cell_type": "code",
   "execution_count": 129,
   "outputs": [
    {
     "data": {
      "text/plain": "   PassengerId  Pclass  Sex   Age  SibSp  Parch     Fare  Embarked_C  \\\n0            1       3    0  22.0      1      0   7.2500           0   \n1            2       1    1  38.0      1      0  71.2833           1   \n2            3       3    1  26.0      0      0   7.9250           0   \n3            4       1    1  35.0      1      0  53.1000           0   \n4            5       3    0  35.0      0      0   8.0500           0   \n\n   Embarked_Q  Embarked_S  \n0           0           1  \n1           0           0  \n2           0           1  \n3           0           1  \n4           0           1  ",
      "text/html": "<div>\n<style scoped>\n    .dataframe tbody tr th:only-of-type {\n        vertical-align: middle;\n    }\n\n    .dataframe tbody tr th {\n        vertical-align: top;\n    }\n\n    .dataframe thead th {\n        text-align: right;\n    }\n</style>\n<table border=\"1\" class=\"dataframe\">\n  <thead>\n    <tr style=\"text-align: right;\">\n      <th></th>\n      <th>PassengerId</th>\n      <th>Pclass</th>\n      <th>Sex</th>\n      <th>Age</th>\n      <th>SibSp</th>\n      <th>Parch</th>\n      <th>Fare</th>\n      <th>Embarked_C</th>\n      <th>Embarked_Q</th>\n      <th>Embarked_S</th>\n    </tr>\n  </thead>\n  <tbody>\n    <tr>\n      <th>0</th>\n      <td>1</td>\n      <td>3</td>\n      <td>0</td>\n      <td>22.0</td>\n      <td>1</td>\n      <td>0</td>\n      <td>7.2500</td>\n      <td>0</td>\n      <td>0</td>\n      <td>1</td>\n    </tr>\n    <tr>\n      <th>1</th>\n      <td>2</td>\n      <td>1</td>\n      <td>1</td>\n      <td>38.0</td>\n      <td>1</td>\n      <td>0</td>\n      <td>71.2833</td>\n      <td>1</td>\n      <td>0</td>\n      <td>0</td>\n    </tr>\n    <tr>\n      <th>2</th>\n      <td>3</td>\n      <td>3</td>\n      <td>1</td>\n      <td>26.0</td>\n      <td>0</td>\n      <td>0</td>\n      <td>7.9250</td>\n      <td>0</td>\n      <td>0</td>\n      <td>1</td>\n    </tr>\n    <tr>\n      <th>3</th>\n      <td>4</td>\n      <td>1</td>\n      <td>1</td>\n      <td>35.0</td>\n      <td>1</td>\n      <td>0</td>\n      <td>53.1000</td>\n      <td>0</td>\n      <td>0</td>\n      <td>1</td>\n    </tr>\n    <tr>\n      <th>4</th>\n      <td>5</td>\n      <td>3</td>\n      <td>0</td>\n      <td>35.0</td>\n      <td>0</td>\n      <td>0</td>\n      <td>8.0500</td>\n      <td>0</td>\n      <td>0</td>\n      <td>1</td>\n    </tr>\n  </tbody>\n</table>\n</div>"
     },
     "execution_count": 129,
     "metadata": {},
     "output_type": "execute_result"
    }
   ],
   "source": [
    "x.head()"
   ],
   "metadata": {
    "collapsed": false,
    "pycharm": {
     "name": "#%%\n"
    }
   }
  },
  {
   "cell_type": "code",
   "execution_count": 130,
   "outputs": [
    {
     "data": {
      "text/plain": "array([3, 1, 2], dtype=int64)"
     },
     "execution_count": 130,
     "metadata": {},
     "output_type": "execute_result"
    }
   ],
   "source": [
    "x['Pclass'].unique()"
   ],
   "metadata": {
    "collapsed": false,
    "pycharm": {
     "name": "#%%\n"
    }
   }
  },
  {
   "cell_type": "code",
   "execution_count": 131,
   "outputs": [],
   "source": [
    "x['Pclass'] = x['Pclass'].astype('category')"
   ],
   "metadata": {
    "collapsed": false,
    "pycharm": {
     "name": "#%%\n"
    }
   }
  },
  {
   "cell_type": "code",
   "execution_count": 132,
   "outputs": [],
   "source": [
    "x = pd.get_dummies(x)"
   ],
   "metadata": {
    "collapsed": false,
    "pycharm": {
     "name": "#%%\n"
    }
   }
  },
  {
   "cell_type": "code",
   "execution_count": 133,
   "outputs": [
    {
     "data": {
      "text/plain": "Index(['PassengerId', 'Sex', 'Age', 'SibSp', 'Parch', 'Fare', 'Embarked_C',\n       'Embarked_Q', 'Embarked_S', 'Pclass_1', 'Pclass_2', 'Pclass_3'],\n      dtype='object')"
     },
     "execution_count": 133,
     "metadata": {},
     "output_type": "execute_result"
    }
   ],
   "source": [
    "x.columns"
   ],
   "metadata": {
    "collapsed": false,
    "pycharm": {
     "name": "#%%\n"
    }
   }
  },
  {
   "cell_type": "code",
   "execution_count": 134,
   "outputs": [
    {
     "data": {
      "text/plain": "   PassengerId  Sex   Age  SibSp  Parch     Fare  Embarked_C  Embarked_Q  \\\n0            1    0  22.0      1      0   7.2500           0           0   \n1            2    1  38.0      1      0  71.2833           1           0   \n2            3    1  26.0      0      0   7.9250           0           0   \n3            4    1  35.0      1      0  53.1000           0           0   \n4            5    0  35.0      0      0   8.0500           0           0   \n\n   Embarked_S  Pclass_1  Pclass_2  Pclass_3  \n0           1         0         0         1  \n1           0         1         0         0  \n2           1         0         0         1  \n3           1         1         0         0  \n4           1         0         0         1  ",
      "text/html": "<div>\n<style scoped>\n    .dataframe tbody tr th:only-of-type {\n        vertical-align: middle;\n    }\n\n    .dataframe tbody tr th {\n        vertical-align: top;\n    }\n\n    .dataframe thead th {\n        text-align: right;\n    }\n</style>\n<table border=\"1\" class=\"dataframe\">\n  <thead>\n    <tr style=\"text-align: right;\">\n      <th></th>\n      <th>PassengerId</th>\n      <th>Sex</th>\n      <th>Age</th>\n      <th>SibSp</th>\n      <th>Parch</th>\n      <th>Fare</th>\n      <th>Embarked_C</th>\n      <th>Embarked_Q</th>\n      <th>Embarked_S</th>\n      <th>Pclass_1</th>\n      <th>Pclass_2</th>\n      <th>Pclass_3</th>\n    </tr>\n  </thead>\n  <tbody>\n    <tr>\n      <th>0</th>\n      <td>1</td>\n      <td>0</td>\n      <td>22.0</td>\n      <td>1</td>\n      <td>0</td>\n      <td>7.2500</td>\n      <td>0</td>\n      <td>0</td>\n      <td>1</td>\n      <td>0</td>\n      <td>0</td>\n      <td>1</td>\n    </tr>\n    <tr>\n      <th>1</th>\n      <td>2</td>\n      <td>1</td>\n      <td>38.0</td>\n      <td>1</td>\n      <td>0</td>\n      <td>71.2833</td>\n      <td>1</td>\n      <td>0</td>\n      <td>0</td>\n      <td>1</td>\n      <td>0</td>\n      <td>0</td>\n    </tr>\n    <tr>\n      <th>2</th>\n      <td>3</td>\n      <td>1</td>\n      <td>26.0</td>\n      <td>0</td>\n      <td>0</td>\n      <td>7.9250</td>\n      <td>0</td>\n      <td>0</td>\n      <td>1</td>\n      <td>0</td>\n      <td>0</td>\n      <td>1</td>\n    </tr>\n    <tr>\n      <th>3</th>\n      <td>4</td>\n      <td>1</td>\n      <td>35.0</td>\n      <td>1</td>\n      <td>0</td>\n      <td>53.1000</td>\n      <td>0</td>\n      <td>0</td>\n      <td>1</td>\n      <td>1</td>\n      <td>0</td>\n      <td>0</td>\n    </tr>\n    <tr>\n      <th>4</th>\n      <td>5</td>\n      <td>0</td>\n      <td>35.0</td>\n      <td>0</td>\n      <td>0</td>\n      <td>8.0500</td>\n      <td>0</td>\n      <td>0</td>\n      <td>1</td>\n      <td>0</td>\n      <td>0</td>\n      <td>1</td>\n    </tr>\n  </tbody>\n</table>\n</div>"
     },
     "execution_count": 134,
     "metadata": {},
     "output_type": "execute_result"
    }
   ],
   "source": [
    "x.head()"
   ],
   "metadata": {
    "collapsed": false,
    "pycharm": {
     "name": "#%%\n"
    }
   }
  },
  {
   "cell_type": "code",
   "execution_count": 135,
   "outputs": [],
   "source": [
    "x_train, x_valid, y_train, y_valid = train_test_split(x, y, test_size=.25, random_state=42)"
   ],
   "metadata": {
    "collapsed": false,
    "pycharm": {
     "name": "#%%\n"
    }
   }
  },
  {
   "cell_type": "code",
   "execution_count": 136,
   "outputs": [],
   "source": [
    "lr = LogisticRegression()"
   ],
   "metadata": {
    "collapsed": false,
    "pycharm": {
     "name": "#%%\n"
    }
   }
  },
  {
   "cell_type": "code",
   "execution_count": 137,
   "outputs": [
    {
     "name": "stderr",
     "output_type": "stream",
     "text": [
      "C:\\ProgramData\\Anaconda3\\lib\\site-packages\\sklearn\\linear_model\\_logistic.py:763: ConvergenceWarning: lbfgs failed to converge (status=1):\n",
      "STOP: TOTAL NO. of ITERATIONS REACHED LIMIT.\n",
      "\n",
      "Increase the number of iterations (max_iter) or scale the data as shown in:\n",
      "    https://scikit-learn.org/stable/modules/preprocessing.html\n",
      "Please also refer to the documentation for alternative solver options:\n",
      "    https://scikit-learn.org/stable/modules/linear_model.html#logistic-regression\n",
      "  n_iter_i = _check_optimize_result(\n"
     ]
    },
    {
     "data": {
      "text/plain": "LogisticRegression()"
     },
     "execution_count": 137,
     "metadata": {},
     "output_type": "execute_result"
    }
   ],
   "source": [
    "lr.fit(x_train, y_train)"
   ],
   "metadata": {
    "collapsed": false,
    "pycharm": {
     "name": "#%%\n"
    }
   }
  },
  {
   "cell_type": "code",
   "execution_count": 138,
   "outputs": [
    {
     "data": {
      "text/plain": "array([0, 0, 0, 1, 1, 1, 1, 0, 1, 1, 0, 0, 0, 0, 0, 1, 0, 1, 0, 0, 0, 0,\n       1, 0, 0, 0, 0, 0, 0, 1, 0, 1, 1, 1, 0, 0, 0, 1, 1, 0, 0, 0, 0, 0,\n       1, 0, 0, 0, 0, 0, 1, 1, 0, 1, 0, 1, 0, 1, 1, 1, 0, 1, 1, 0, 0, 1,\n       0, 0, 0, 1, 1, 1, 1, 1, 0, 0, 1, 1, 1, 0, 0, 1, 1, 0, 0, 0, 1, 1,\n       0, 0, 0, 0, 0, 0, 0, 0, 0, 0, 1, 0, 0, 0, 1, 0, 0, 0, 1, 0, 0, 0,\n       1, 0, 1, 0, 1, 0, 0, 0, 1, 0, 0, 1, 1, 0, 0, 0, 1, 1, 1, 0, 1, 0,\n       0, 1, 0, 1, 1, 0, 0, 1, 0, 1, 0, 0, 1, 1, 0, 0, 1, 0, 0, 0, 0, 1,\n       0, 0, 0, 1, 1, 1, 0, 0, 0, 1, 0, 0, 0, 1, 0, 0, 1, 1, 0, 1, 0, 0,\n       0, 1, 1, 0, 0, 0, 0, 1, 1, 0, 0, 0, 0, 1, 0, 0, 0, 0, 1, 1, 1, 0,\n       1, 0, 0, 1, 1, 0, 0, 1, 0, 0, 0, 0, 1, 0, 1, 0, 0, 0, 1, 0, 1, 0,\n       0, 1, 0], dtype=int64)"
     },
     "execution_count": 138,
     "metadata": {},
     "output_type": "execute_result"
    }
   ],
   "source": [
    "y_pred = lr.predict(x_valid)\n",
    "y_pred"
   ],
   "metadata": {
    "collapsed": false,
    "pycharm": {
     "name": "#%%\n"
    }
   }
  },
  {
   "cell_type": "code",
   "execution_count": 139,
   "outputs": [],
   "source": [
    "from sklearn.metrics import accuracy_score"
   ],
   "metadata": {
    "collapsed": false,
    "pycharm": {
     "name": "#%%\n"
    }
   }
  },
  {
   "cell_type": "code",
   "execution_count": 140,
   "outputs": [
    {
     "data": {
      "text/plain": "0.7937219730941704"
     },
     "execution_count": 140,
     "metadata": {},
     "output_type": "execute_result"
    }
   ],
   "source": [
    "accuracy_score(y_valid, y_pred)"
   ],
   "metadata": {
    "collapsed": false,
    "pycharm": {
     "name": "#%%\n"
    }
   }
  },
  {
   "cell_type": "code",
   "execution_count": 141,
   "outputs": [
    {
     "data": {
      "text/plain": "0.812874251497006"
     },
     "execution_count": 141,
     "metadata": {},
     "output_type": "execute_result"
    }
   ],
   "source": [
    "y_pred_train = lr.predict(x_train)\n",
    "accuracy_score(y_train, y_pred_train)"
   ],
   "metadata": {
    "collapsed": false,
    "pycharm": {
     "name": "#%%\n"
    }
   }
  },
  {
   "cell_type": "code",
   "execution_count": 142,
   "outputs": [
    {
     "data": {
      "text/plain": "array([[0.87830022, 0.12169978],\n       [0.7325323 , 0.2674677 ],\n       [0.85411973, 0.14588027],\n       [0.08244227, 0.91755773],\n       [0.27508707, 0.72491293],\n       [0.08345352, 0.91654648],\n       [0.33933644, 0.66066356],\n       [0.90728889, 0.09271111],\n       [0.255379  , 0.744621  ],\n       [0.11527068, 0.88472932],\n       [0.72049332, 0.27950668],\n       [0.9292184 , 0.0707816 ],\n       [0.61523954, 0.38476046],\n       [0.85609037, 0.14390963],\n       [0.76581649, 0.23418351],\n       [0.07119323, 0.92880677],\n       [0.72084838, 0.27915162],\n       [0.31369156, 0.68630844],\n       [0.67284273, 0.32715727],\n       [0.7342763 , 0.2657237 ],\n       [0.88835487, 0.11164513],\n       [0.65020842, 0.34979158],\n       [0.41502668, 0.58497332],\n       [0.85970752, 0.14029248],\n       [0.89486859, 0.10513141],\n       [0.91768975, 0.08231025],\n       [0.60845549, 0.39154451],\n       [0.71463508, 0.28536492],\n       [0.92202693, 0.07797307],\n       [0.42754529, 0.57245471],\n       [0.84858549, 0.15141451],\n       [0.37927942, 0.62072058],\n       [0.46213327, 0.53786673],\n       [0.43080665, 0.56919335],\n       [0.87132897, 0.12867103],\n       [0.8569394 , 0.1430606 ],\n       [0.62830369, 0.37169631],\n       [0.34690852, 0.65309148],\n       [0.06213716, 0.93786284],\n       [0.89168789, 0.10831211],\n       [0.73222641, 0.26777359],\n       [0.91969774, 0.08030226],\n       [0.88845476, 0.11154524],\n       [0.84899471, 0.15100529],\n       [0.44113329, 0.55886671],\n       [0.91843254, 0.08156746],\n       [0.8796416 , 0.1203584 ],\n       [0.8826013 , 0.1173987 ],\n       [0.89147717, 0.10852283],\n       [0.65628967, 0.34371033],\n       [0.26250971, 0.73749029],\n       [0.19405401, 0.80594599],\n       [0.96295499, 0.03704501],\n       [0.45990134, 0.54009866],\n       [0.95318205, 0.04681795],\n       [0.07706271, 0.92293729],\n       [0.76146768, 0.23853232],\n       [0.05498638, 0.94501362],\n       [0.19825859, 0.80174141],\n       [0.2846178 , 0.7153822 ],\n       [0.87457347, 0.12542653],\n       [0.11604949, 0.88395051],\n       [0.18954547, 0.81045453],\n       [0.64075636, 0.35924364],\n       [0.87240457, 0.12759543],\n       [0.30311204, 0.69688796],\n       [0.62203477, 0.37796523],\n       [0.89938934, 0.10061066],\n       [0.84185689, 0.15814311],\n       [0.12925436, 0.87074564],\n       [0.20672725, 0.79327275],\n       [0.03631529, 0.96368471],\n       [0.42625262, 0.57374738],\n       [0.09193452, 0.90806548],\n       [0.86588149, 0.13411851],\n       [0.9292784 , 0.0707216 ],\n       [0.31116269, 0.68883731],\n       [0.06345176, 0.93654824],\n       [0.21241274, 0.78758726],\n       [0.5691691 , 0.4308309 ],\n       [0.9454635 , 0.0545365 ],\n       [0.18431125, 0.81568875],\n       [0.08755373, 0.91244627],\n       [0.84950869, 0.15049131],\n       [0.70800237, 0.29199763],\n       [0.76178933, 0.23821067],\n       [0.06764976, 0.93235024],\n       [0.06491065, 0.93508935],\n       [0.68031723, 0.31968277],\n       [0.90656327, 0.09343673],\n       [0.8637048 , 0.1362952 ],\n       [0.54037478, 0.45962522],\n       [0.80033087, 0.19966913],\n       [0.86520968, 0.13479032],\n       [0.91104623, 0.08895377],\n       [0.90072532, 0.09927468],\n       [0.75243076, 0.24756924],\n       [0.93844862, 0.06155138],\n       [0.20359922, 0.79640078],\n       [0.89662124, 0.10337876],\n       [0.82364266, 0.17635734],\n       [0.91125165, 0.08874835],\n       [0.05125353, 0.94874647],\n       [0.92169773, 0.07830227],\n       [0.89167948, 0.10832052],\n       [0.91046897, 0.08953103],\n       [0.25282308, 0.74717692],\n       [0.72464369, 0.27535631],\n       [0.90541264, 0.09458736],\n       [0.59038581, 0.40961419],\n       [0.11829999, 0.88170001],\n       [0.87957347, 0.12042653],\n       [0.05990425, 0.94009575],\n       [0.65998754, 0.34001246],\n       [0.37438363, 0.62561637],\n       [0.85143198, 0.14856802],\n       [0.79691401, 0.20308599],\n       [0.66857879, 0.33142121],\n       [0.1839094 , 0.8160906 ],\n       [0.66082147, 0.33917853],\n       [0.79849979, 0.20150021],\n       [0.06473385, 0.93526615],\n       [0.27838301, 0.72161699],\n       [0.58572007, 0.41427993],\n       [0.87514387, 0.12485613],\n       [0.52475832, 0.47524168],\n       [0.17208954, 0.82791046],\n       [0.41140716, 0.58859284],\n       [0.33963337, 0.66036663],\n       [0.87127982, 0.12872018],\n       [0.33485034, 0.66514966],\n       [0.89921664, 0.10078336],\n       [0.73197276, 0.26802724],\n       [0.22022067, 0.77977933],\n       [0.65818128, 0.34181872],\n       [0.22903258, 0.77096742],\n       [0.04999911, 0.95000089],\n       [0.90498351, 0.09501649],\n       [0.92163458, 0.07836542],\n       [0.40678545, 0.59321455],\n       [0.86510738, 0.13489262],\n       [0.25221385, 0.74778615],\n       [0.71746994, 0.28253006],\n       [0.79106025, 0.20893975],\n       [0.49993664, 0.50006336],\n       [0.23906867, 0.76093133],\n       [0.73842981, 0.26157019],\n       [0.90469523, 0.09530477],\n       [0.05900591, 0.94099409],\n       [0.9277261 , 0.0722739 ],\n       [0.83946723, 0.16053277],\n       [0.88117157, 0.11882843],\n       [0.85253276, 0.14746724],\n       [0.39577374, 0.60422626],\n       [0.91095736, 0.08904264],\n       [0.8960853 , 0.1039147 ],\n       [0.8696721 , 0.1303279 ],\n       [0.35557215, 0.64442785],\n       [0.22623064, 0.77376936],\n       [0.41250177, 0.58749823],\n       [0.82635799, 0.17364201],\n       [0.61393459, 0.38606541],\n       [0.75530099, 0.24469901],\n       [0.07158231, 0.92841769],\n       [0.87887057, 0.12112943],\n       [0.7665544 , 0.2334456 ],\n       [0.68297182, 0.31702818],\n       [0.12585495, 0.87414505],\n       [0.87389987, 0.12610013],\n       [0.91714367, 0.08285633],\n       [0.45928968, 0.54071032],\n       [0.15498772, 0.84501228],\n       [0.65542651, 0.34457349],\n       [0.2173649 , 0.7826351 ],\n       [0.85939071, 0.14060929],\n       [0.83193637, 0.16806363],\n       [0.70414981, 0.29585019],\n       [0.13311868, 0.86688132],\n       [0.33880371, 0.66119629],\n       [0.73359622, 0.26640378],\n       [0.65581296, 0.34418704],\n       [0.90874989, 0.09125011],\n       [0.90588351, 0.09411649],\n       [0.49429509, 0.50570491],\n       [0.25842928, 0.74157072],\n       [0.71895265, 0.28104735],\n       [0.65591537, 0.34408463],\n       [0.91229285, 0.08770715],\n       [0.63836108, 0.36163892],\n       [0.20570826, 0.79429174],\n       [0.93524676, 0.06475324],\n       [0.75545961, 0.24454039],\n       [0.87841569, 0.12158431],\n       [0.90843678, 0.09156322],\n       [0.30397474, 0.69602526],\n       [0.12246444, 0.87753556],\n       [0.03240812, 0.96759188],\n       [0.72536929, 0.27463071],\n       [0.0777826 , 0.9222174 ],\n       [0.55599159, 0.44400841],\n       [0.96247213, 0.03752787],\n       [0.40780653, 0.59219347],\n       [0.1043885 , 0.8956115 ],\n       [0.66486552, 0.33513448],\n       [0.78509589, 0.21490411],\n       [0.335571  , 0.664429  ],\n       [0.88959509, 0.11040491],\n       [0.68293833, 0.31706167],\n       [0.83956753, 0.16043247],\n       [0.94455876, 0.05544124],\n       [0.32492494, 0.67507506],\n       [0.90413467, 0.09586533],\n       [0.08520825, 0.91479175],\n       [0.86210947, 0.13789053],\n       [0.62114794, 0.37885206],\n       [0.91094002, 0.08905998],\n       [0.1847301 , 0.8152699 ],\n       [0.67149621, 0.32850379],\n       [0.1387956 , 0.8612044 ],\n       [0.90156495, 0.09843505],\n       [0.91037664, 0.08962336],\n       [0.15418937, 0.84581063],\n       [0.89804065, 0.10195935]])"
     },
     "execution_count": 142,
     "metadata": {},
     "output_type": "execute_result"
    }
   ],
   "source": [
    "y_proba = lr.predict_proba(x_valid)\n",
    "y_proba"
   ],
   "metadata": {
    "collapsed": false,
    "pycharm": {
     "name": "#%%\n"
    }
   }
  },
  {
   "cell_type": "code",
   "execution_count": 143,
   "outputs": [],
   "source": [
    "x_train.to_pickle('x_train.plk')\n",
    "y_train.to_pickle('y_train.plk')\n",
    "\n",
    "x_valid.to_pickle('x_valid.plk')\n",
    "y_valid.to_pickle('y_valid.plk')"
   ],
   "metadata": {
    "collapsed": false,
    "pycharm": {
     "name": "#%%\n"
    }
   }
  }
 ],
 "metadata": {
  "kernelspec": {
   "display_name": "Python 3",
   "language": "python",
   "name": "python3"
  },
  "language_info": {
   "codemirror_mode": {
    "name": "ipython",
    "version": 2
   },
   "file_extension": ".py",
   "mimetype": "text/x-python",
   "name": "python",
   "nbconvert_exporter": "python",
   "pygments_lexer": "ipython2",
   "version": "2.7.6"
  }
 },
 "nbformat": 4,
 "nbformat_minor": 0
}