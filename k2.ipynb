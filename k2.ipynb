{
 "cells": [
  {
   "cell_type": "code",
   "execution_count": 54,
   "metadata": {
    "collapsed": true
   },
   "outputs": [],
   "source": [
    "import numpy as np\n",
    "import pandas as pd\n",
    "\n",
    "from sklearn.preprocessing import StandardScaler\n",
    "\n",
    "from sklearn.ensemble import GradientBoostingRegressor\n",
    "\n",
    "PATH_TO_TRAIN = 'data/train.csv'\n",
    "PATH_TO_TEST = 'data/test.csv'\n"
   ]
  },
  {
   "cell_type": "code",
   "execution_count": 55,
   "outputs": [],
   "source": [
    "\n",
    "X_train = pd.read_csv(PATH_TO_TRAIN)\n",
    "y_train = X_train['Price']\n",
    "\n",
    "X_train.drop('Price',axis=1, inplace=True)\n",
    "\n",
    "X_test = pd.read_csv(PATH_TO_TEST)"
   ],
   "metadata": {
    "collapsed": false,
    "pycharm": {
     "name": "#%%\n"
    }
   }
  },
  {
   "cell_type": "code",
   "execution_count": 56,
   "outputs": [],
   "source": [
    "def add_columns(dataframe, column_name):\n",
    "    df = pd.get_dummies(dataframe[column_name])\n",
    "    for name in df.columns:\n",
    "        df.rename(columns={name : column_name + '_' + name}, inplace=True)\n",
    "    dataframe[df.columns] = df\n",
    "    dataframe.drop([column_name], axis=1, inplace=True)"
   ],
   "metadata": {
    "collapsed": false,
    "pycharm": {
     "name": "#%%\n"
    }
   }
  },
  {
   "cell_type": "code",
   "execution_count": 59,
   "outputs": [],
   "source": [
    "X_train.drop('Healthcare_1', inplace=True, axis=1)\n",
    "X_test.drop('Healthcare_1', inplace=True, axis=1)\n",
    "\n",
    "add_columns(X_train, 'Ecology_2')\n",
    "add_columns(X_train, 'Ecology_3')\n",
    "add_columns(X_train, 'Shops_2')\n",
    "\n",
    "add_columns(X_test, 'Ecology_2')\n",
    "add_columns(X_test, 'Ecology_3')\n",
    "add_columns(X_test, 'Shops_2')\n"
   ],
   "metadata": {
    "collapsed": false,
    "pycharm": {
     "name": "#%%\n"
    }
   }
  },
  {
   "cell_type": "code",
   "execution_count": 60,
   "outputs": [],
   "source": [
    "X_train.loc[X_train['LifeSquare'].isna(), 'LifeSquare'] = X_train['Square'] - X_train['KitchenSquare']\n",
    "X_test.loc[X_test['LifeSquare'].isna(),   'LifeSquare'] = X_test['Square']  - X_test['KitchenSquare']"
   ],
   "metadata": {
    "collapsed": false,
    "pycharm": {
     "name": "#%%\n"
    }
   }
  },
  {
   "cell_type": "code",
   "execution_count": 61,
   "outputs": [],
   "source": [
    "scaler = StandardScaler()\n",
    "\n",
    "X_train_scaled = pd.DataFrame(scaler.fit_transform(X_train),\n",
    "                              columns=X_train.columns,\n",
    "                              index=X_train.index)\n",
    "X_test_scaled = pd.DataFrame(scaler.transform(X_test),\n",
    "                             columns=X_test.columns,\n",
    "                             index=X_test.index)"
   ],
   "metadata": {
    "collapsed": false,
    "pycharm": {
     "name": "#%%\n"
    }
   }
  },
  {
   "cell_type": "code",
   "execution_count": 66,
   "outputs": [
    {
     "data": {
      "text/plain": "((10000, 21), (5000, 21))"
     },
     "execution_count": 66,
     "metadata": {},
     "output_type": "execute_result"
    }
   ],
   "source": [
    "X_train.shape, X_test.shape"
   ],
   "metadata": {
    "collapsed": false,
    "pycharm": {
     "name": "#%%\n"
    }
   }
  },
  {
   "cell_type": "code",
   "execution_count": 63,
   "outputs": [
    {
     "data": {
      "text/plain": "array([155813.03064684, 244354.20385332, 188510.1864873 , ...,\n       344886.42979929, 224493.50977966, 166268.50417804])"
     },
     "execution_count": 63,
     "metadata": {},
     "output_type": "execute_result"
    }
   ],
   "source": [
    "# forest_best = forest_grid.best_estimator_\n",
    "gbr = GradientBoostingRegressor(max_depth=13, random_state=42)\n",
    "gbr.fit(X_train, y_train)\n",
    "\n",
    "y_pred = gbr.predict(X_test)"
   ],
   "metadata": {
    "collapsed": false,
    "pycharm": {
     "name": "#%%\n"
    }
   }
  },
  {
   "cell_type": "code",
   "execution_count": 67,
   "outputs": [
    {
     "data": {
      "text/plain": "      Id          Price\n0    725  155813.030647\n1  15856  244354.203853\n2   5480  188510.186487\n3  15664  352600.352872\n4  14275  150261.328813",
      "text/html": "<div>\n<style scoped>\n    .dataframe tbody tr th:only-of-type {\n        vertical-align: middle;\n    }\n\n    .dataframe tbody tr th {\n        vertical-align: top;\n    }\n\n    .dataframe thead th {\n        text-align: right;\n    }\n</style>\n<table border=\"1\" class=\"dataframe\">\n  <thead>\n    <tr style=\"text-align: right;\">\n      <th></th>\n      <th>Id</th>\n      <th>Price</th>\n    </tr>\n  </thead>\n  <tbody>\n    <tr>\n      <th>0</th>\n      <td>725</td>\n      <td>155813.030647</td>\n    </tr>\n    <tr>\n      <th>1</th>\n      <td>15856</td>\n      <td>244354.203853</td>\n    </tr>\n    <tr>\n      <th>2</th>\n      <td>5480</td>\n      <td>188510.186487</td>\n    </tr>\n    <tr>\n      <th>3</th>\n      <td>15664</td>\n      <td>352600.352872</td>\n    </tr>\n    <tr>\n      <th>4</th>\n      <td>14275</td>\n      <td>150261.328813</td>\n    </tr>\n  </tbody>\n</table>\n</div>"
     },
     "execution_count": 67,
     "metadata": {},
     "output_type": "execute_result"
    }
   ],
   "source": [
    "preds_final = pd.DataFrame()\n",
    "preds_final['Id'] = X_test['Id'].copy()\n",
    "\n",
    "X_test.set_index('Id', inplace=True)\n",
    "\n",
    "submission_df = pd.read_csv('data/sample_submission.csv')\n",
    "\n",
    "submission_df['Price'] = y_pred\n",
    "submission_df.to_csv('./predictions.csv', index=False, encoding='utf-8', sep=',')\n",
    "\n",
    "submission_df.head()"
   ],
   "metadata": {
    "collapsed": false,
    "pycharm": {
     "name": "#%%\n"
    }
   }
  }
 ],
 "metadata": {
  "kernelspec": {
   "display_name": "Python 3",
   "language": "python",
   "name": "python3"
  },
  "language_info": {
   "codemirror_mode": {
    "name": "ipython",
    "version": 2
   },
   "file_extension": ".py",
   "mimetype": "text/x-python",
   "name": "python",
   "nbconvert_exporter": "python",
   "pygments_lexer": "ipython2",
   "version": "2.7.6"
  }
 },
 "nbformat": 4,
 "nbformat_minor": 0
}